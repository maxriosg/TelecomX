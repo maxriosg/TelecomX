{
  "nbformat": 4,
  "nbformat_minor": 0,
  "metadata": {
    "colab": {
      "provenance": [],
      "authorship_tag": "ABX9TyMgmX5Al9lOUtYI1HPWiOSU",
      "include_colab_link": true
    },
    "kernelspec": {
      "name": "python3",
      "display_name": "Python 3"
    },
    "language_info": {
      "name": "python"
    }
  },
  "cells": [
    {
      "cell_type": "markdown",
      "metadata": {
        "id": "view-in-github",
        "colab_type": "text"
      },
      "source": [
        "<a href=\"https://colab.research.google.com/github/maxriosg/TelecomX/blob/main/Telecomx.ipynb\" target=\"_parent\"><img src=\"https://colab.research.google.com/assets/colab-badge.svg\" alt=\"Open In Colab\"/></a>"
      ]
    },
    {
      "cell_type": "code",
      "execution_count": 1,
      "metadata": {
        "colab": {
          "base_uri": "https://localhost:8080/"
        },
        "id": "3sjFkxSWTQta",
        "outputId": "22a382f8-71f5-4c37-af25-1504c56d2583"
      },
      "outputs": [
        {
          "output_type": "stream",
          "name": "stdout",
          "text": [
            "   customerID Churn                                           customer  \\\n",
            "0  0002-ORFBO    No  {'gender': 'Female', 'SeniorCitizen': 0, 'Part...   \n",
            "1  0003-MKNFE    No  {'gender': 'Male', 'SeniorCitizen': 0, 'Partne...   \n",
            "2  0004-TLHLJ   Yes  {'gender': 'Male', 'SeniorCitizen': 0, 'Partne...   \n",
            "3  0011-IGKFF   Yes  {'gender': 'Male', 'SeniorCitizen': 1, 'Partne...   \n",
            "4  0013-EXCHZ   Yes  {'gender': 'Female', 'SeniorCitizen': 1, 'Part...   \n",
            "\n",
            "                                             phone  \\\n",
            "0   {'PhoneService': 'Yes', 'MultipleLines': 'No'}   \n",
            "1  {'PhoneService': 'Yes', 'MultipleLines': 'Yes'}   \n",
            "2   {'PhoneService': 'Yes', 'MultipleLines': 'No'}   \n",
            "3   {'PhoneService': 'Yes', 'MultipleLines': 'No'}   \n",
            "4   {'PhoneService': 'Yes', 'MultipleLines': 'No'}   \n",
            "\n",
            "                                            internet  \\\n",
            "0  {'InternetService': 'DSL', 'OnlineSecurity': '...   \n",
            "1  {'InternetService': 'DSL', 'OnlineSecurity': '...   \n",
            "2  {'InternetService': 'Fiber optic', 'OnlineSecu...   \n",
            "3  {'InternetService': 'Fiber optic', 'OnlineSecu...   \n",
            "4  {'InternetService': 'Fiber optic', 'OnlineSecu...   \n",
            "\n",
            "                                             account  \n",
            "0  {'Contract': 'One year', 'PaperlessBilling': '...  \n",
            "1  {'Contract': 'Month-to-month', 'PaperlessBilli...  \n",
            "2  {'Contract': 'Month-to-month', 'PaperlessBilli...  \n",
            "3  {'Contract': 'Month-to-month', 'PaperlessBilli...  \n",
            "4  {'Contract': 'Month-to-month', 'PaperlessBilli...  \n",
            "\n",
            "Dimensiones del DataFrame: (7267, 6)\n",
            "\n",
            "Columnas disponibles: ['customerID', 'Churn', 'customer', 'phone', 'internet', 'account']\n"
          ]
        }
      ],
      "source": [
        "import requests\n",
        "import pandas as pd\n",
        "\n",
        "# 1. URL cruda del archivo JSON en GitHub\n",
        "url = \"https://raw.githubusercontent.com/ingridcristh/challenge2-data-science-LATAM/main/TelecomX_Data.json\"\n",
        "\n",
        "# 2. Realizar la petición GET para obtener los datos\n",
        "response = requests.get(url)\n",
        "response.raise_for_status()  # Verifica que la petición fue exitosa\n",
        "\n",
        "# 3. Cargar los datos JSON en Python\n",
        "data = response.json()\n",
        "\n",
        "# 4. Convertir el JSON a un DataFrame de Pandas\n",
        "df = pd.DataFrame(data)\n",
        "\n",
        "# 5. Mostrar las primeras filas para verificar que se cargaron correctamente\n",
        "print(df.head())\n",
        "print(\"\\nDimensiones del DataFrame:\", df.shape)\n",
        "print(\"\\nColumnas disponibles:\", df.columns.tolist())\n"
      ]
    },
    {
      "cell_type": "code",
      "source": [
        "# Inspección básica del DataFrame\n",
        "print(\"Columnas y tipos de datos:\\n\")\n",
        "print(df.dtypes)\n",
        "\n",
        "print(\"\\nResumen de datos (valores únicos, nulos, etc.):\\n\")\n",
        "print(df.describe(include='all').T)\n"
      ],
      "metadata": {
        "colab": {
          "base_uri": "https://localhost:8080/"
        },
        "id": "WWspaJrNeDz2",
        "outputId": "8998f4c4-07a8-4543-b780-bf0176eb7372"
      },
      "execution_count": 2,
      "outputs": [
        {
          "output_type": "stream",
          "name": "stdout",
          "text": [
            "Columnas y tipos de datos:\n",
            "\n",
            "customerID    object\n",
            "Churn         object\n",
            "customer      object\n",
            "phone         object\n",
            "internet      object\n",
            "account       object\n",
            "dtype: object\n",
            "\n",
            "Resumen de datos (valores únicos, nulos, etc.):\n",
            "\n",
            "           count unique                                                top  \\\n",
            "customerID  7267   7267                                         9995-HOTOH   \n",
            "Churn       7267      3                                                 No   \n",
            "customer    7267    891  {'gender': 'Male', 'SeniorCitizen': 0, 'Partne...   \n",
            "phone       7267      3     {'PhoneService': 'Yes', 'MultipleLines': 'No'}   \n",
            "internet    7267    129  {'InternetService': 'No', 'OnlineSecurity': 'N...   \n",
            "account     7267   6931  {'Contract': 'Month-to-month', 'PaperlessBilli...   \n",
            "\n",
            "            freq  \n",
            "customerID     1  \n",
            "Churn       5174  \n",
            "customer     223  \n",
            "phone       3495  \n",
            "internet    1581  \n",
            "account        6  \n"
          ]
        }
      ]
    },
    {
      "cell_type": "code",
      "source": [
        "# Ver cuántos valores nulos hay por columna\n",
        "print(\"Valores nulos por columna:\\n\")\n",
        "print(df.isnull().sum())"
      ],
      "metadata": {
        "colab": {
          "base_uri": "https://localhost:8080/"
        },
        "id": "gZ4ivxZTett9",
        "outputId": "f58bb49c-f2cd-48e7-adc8-aeef7805077e"
      },
      "execution_count": 4,
      "outputs": [
        {
          "output_type": "stream",
          "name": "stdout",
          "text": [
            "Valores nulos por columna:\n",
            "\n",
            "customerID    0\n",
            "Churn         0\n",
            "customer      0\n",
            "phone         0\n",
            "internet      0\n",
            "account       0\n",
            "dtype: int64\n"
          ]
        }
      ]
    },
    {
      "cell_type": "code",
      "source": [
        "for col in ['customer', 'phone', 'internet', 'account']:\n",
        "    print(f\"{col}: {type(df[col].iloc[0])}\")"
      ],
      "metadata": {
        "colab": {
          "base_uri": "https://localhost:8080/"
        },
        "id": "KBzelKBHka7e",
        "outputId": "a877bcd3-acc8-4788-b0df-9b17a7757991"
      },
      "execution_count": 8,
      "outputs": [
        {
          "output_type": "stream",
          "name": "stdout",
          "text": [
            "customer: <class 'dict'>\n",
            "phone: <class 'dict'>\n",
            "internet: <class 'dict'>\n",
            "account: <class 'dict'>\n"
          ]
        }
      ]
    },
    {
      "cell_type": "code",
      "source": [
        "for col in ['customer', 'phone', 'internet', 'account']:\n",
        "    df[col] = df[col].apply(lambda x: str(x) if isinstance(x, dict) else x)"
      ],
      "metadata": {
        "id": "bAHWrE3Ok4DF"
      },
      "execution_count": 9,
      "outputs": []
    },
    {
      "cell_type": "code",
      "source": [
        "# Buscar duplicados y eliminarlos\n",
        "print(f\"Duplicados antes: {df.duplicated().sum()}\")\n",
        "df = df.drop_duplicates()\n",
        "print(f\"Filas luego de eliminar duplicados: {len(df)}\")"
      ],
      "metadata": {
        "colab": {
          "base_uri": "https://localhost:8080/"
        },
        "id": "dgG70nBOk9lt",
        "outputId": "54eb8037-7de4-455b-9f4e-55d11f516322"
      },
      "execution_count": 10,
      "outputs": [
        {
          "output_type": "stream",
          "name": "stdout",
          "text": [
            "Duplicados antes: 0\n",
            "Filas luego de eliminar duplicados: 7267\n"
          ]
        }
      ]
    },
    {
      "cell_type": "code",
      "source": [
        "from pandas import json_normalize"
      ],
      "metadata": {
        "id": "-hXKYHLdlG6W"
      },
      "execution_count": 11,
      "outputs": []
    },
    {
      "cell_type": "code",
      "source": [
        "columnas_dict = ['customer', 'phone', 'internet', 'account']"
      ],
      "metadata": {
        "id": "kQxUR0qMlfi1"
      },
      "execution_count": 14,
      "outputs": []
    },
    {
      "cell_type": "code",
      "source": [
        "for col in columnas_dict:\n",
        "    print(f\"Desanidando columna: {col}\")"
      ],
      "metadata": {
        "colab": {
          "base_uri": "https://localhost:8080/"
        },
        "id": "2niI2v3Nljbd",
        "outputId": "96183b54-4fe1-4de5-88b9-e177d3680e63"
      },
      "execution_count": 15,
      "outputs": [
        {
          "output_type": "stream",
          "name": "stdout",
          "text": [
            "Desanidando columna: customer\n",
            "Desanidando columna: phone\n",
            "Desanidando columna: internet\n",
            "Desanidando columna: account\n"
          ]
        }
      ]
    },
    {
      "cell_type": "code",
      "source": [
        "df[col] = df[col].apply(lambda x: eval(x) if isinstance(x, str) and x.startswith(\"{\") else x)"
      ],
      "metadata": {
        "id": "KbW-RAgqlzb9"
      },
      "execution_count": 16,
      "outputs": []
    },
    {
      "cell_type": "code",
      "source": [
        "columnas_expandidas = json_normalize(df[col])"
      ],
      "metadata": {
        "id": "rf3b7ErBl4Ct"
      },
      "execution_count": 17,
      "outputs": []
    },
    {
      "cell_type": "code",
      "source": [
        "# Renombrar las columnas resultantes para que incluyan el nombre original como prefijo\n",
        "columnas_expandidas.columns = [f\"{col}_{subcol}\" for subcol in columnas_expandidas.columns]"
      ],
      "metadata": {
        "id": "5vuMPTpzmI4V"
      },
      "execution_count": 19,
      "outputs": []
    },
    {
      "cell_type": "code",
      "source": [
        "# Agregar las nuevas columnas al DataFrame\n",
        "df[columnas_expandidas.columns] = columnas_expandidas"
      ],
      "metadata": {
        "id": "bZCnx_UxmE-N"
      },
      "execution_count": 20,
      "outputs": []
    },
    {
      "cell_type": "code",
      "source": [
        " # Agregar las nuevas columnas al DataFrame\n",
        "df[columnas_expandidas.columns] = columnas_expandidas"
      ],
      "metadata": {
        "id": "Xe4IMaI4mNvO"
      },
      "execution_count": 21,
      "outputs": []
    },
    {
      "cell_type": "code",
      "source": [
        "# Eliminar la columna original anidada\n",
        "df.drop(columns=[col], inplace=True)"
      ],
      "metadata": {
        "id": "UIXfuxb7mS01"
      },
      "execution_count": 22,
      "outputs": []
    },
    {
      "cell_type": "code",
      "source": [
        "print(\"Columnas disponibles después de expandir:\")\n",
        "print(df.columns.tolist())"
      ],
      "metadata": {
        "colab": {
          "base_uri": "https://localhost:8080/"
        },
        "id": "62PwvHYkmX1l",
        "outputId": "890a0d97-c331-4cde-b9bf-75f0d0d0e78b"
      },
      "execution_count": 23,
      "outputs": [
        {
          "output_type": "stream",
          "name": "stdout",
          "text": [
            "Columnas disponibles después de expandir:\n",
            "['customerID', 'Churn', 'phone', 'internet', 'gender', 'SeniorCitizen', 'Partner', 'Dependents', 'tenure', 'account_Contract', 'account_PaperlessBilling', 'account_PaymentMethod', 'account_Charges.Monthly', 'account_Charges.Total']\n"
          ]
        }
      ]
    },
    {
      "cell_type": "code",
      "source": [
        "print(\"\\nPrimeras filas del DataFrame:\")\n",
        "print(df.head())"
      ],
      "metadata": {
        "colab": {
          "base_uri": "https://localhost:8080/"
        },
        "id": "i3KtoRr-mdmt",
        "outputId": "1212c058-938f-449c-d3fa-8ecd5f9391ec"
      },
      "execution_count": 24,
      "outputs": [
        {
          "output_type": "stream",
          "name": "stdout",
          "text": [
            "\n",
            "Primeras filas del DataFrame:\n",
            "   customerID Churn                                            phone  \\\n",
            "0  0002-ORFBO    No   {'PhoneService': 'Yes', 'MultipleLines': 'No'}   \n",
            "1  0003-MKNFE    No  {'PhoneService': 'Yes', 'MultipleLines': 'Yes'}   \n",
            "2  0004-TLHLJ   Yes   {'PhoneService': 'Yes', 'MultipleLines': 'No'}   \n",
            "3  0011-IGKFF   Yes   {'PhoneService': 'Yes', 'MultipleLines': 'No'}   \n",
            "4  0013-EXCHZ   Yes   {'PhoneService': 'Yes', 'MultipleLines': 'No'}   \n",
            "\n",
            "                                            internet  gender  SeniorCitizen  \\\n",
            "0  {'InternetService': 'DSL', 'OnlineSecurity': '...  Female              0   \n",
            "1  {'InternetService': 'DSL', 'OnlineSecurity': '...    Male              0   \n",
            "2  {'InternetService': 'Fiber optic', 'OnlineSecu...    Male              0   \n",
            "3  {'InternetService': 'Fiber optic', 'OnlineSecu...    Male              1   \n",
            "4  {'InternetService': 'Fiber optic', 'OnlineSecu...  Female              1   \n",
            "\n",
            "  Partner Dependents  tenure account_Contract account_PaperlessBilling  \\\n",
            "0     Yes        Yes       9         One year                      Yes   \n",
            "1      No         No       9   Month-to-month                       No   \n",
            "2      No         No       4   Month-to-month                      Yes   \n",
            "3     Yes         No      13   Month-to-month                      Yes   \n",
            "4     Yes         No       3   Month-to-month                      Yes   \n",
            "\n",
            "  account_PaymentMethod  account_Charges.Monthly account_Charges.Total  \n",
            "0          Mailed check                     65.6                 593.3  \n",
            "1          Mailed check                     59.9                 542.4  \n",
            "2      Electronic check                     73.9                280.85  \n",
            "3      Electronic check                     98.0               1237.85  \n",
            "4          Mailed check                     83.9                 267.4  \n"
          ]
        }
      ]
    },
    {
      "cell_type": "code",
      "source": [
        "# Mostrar cantidad de valores nulos por columna\n",
        "print(\"Valores nulos por columna:\\n\")\n",
        "print(df.isnull().sum())\n",
        "\n",
        "# Mostrar porcentaje de valores nulos (útil para decidir si eliminar columnas o no)\n",
        "porcentaje_nulos = df.isnull().mean() * 100\n",
        "print(\"\\nPorcentaje de nulos por columna:\\n\")\n",
        "print(porcentaje_nulos[porcentaje_nulos > 0].sort_values(ascending=False))\n"
      ],
      "metadata": {
        "colab": {
          "base_uri": "https://localhost:8080/"
        },
        "id": "zbJz_WBxmi5d",
        "outputId": "961f8580-2a8b-4fc1-c6cb-b530728c12c0"
      },
      "execution_count": 25,
      "outputs": [
        {
          "output_type": "stream",
          "name": "stdout",
          "text": [
            "Valores nulos por columna:\n",
            "\n",
            "customerID                  0\n",
            "Churn                       0\n",
            "phone                       0\n",
            "internet                    0\n",
            "gender                      0\n",
            "SeniorCitizen               0\n",
            "Partner                     0\n",
            "Dependents                  0\n",
            "tenure                      0\n",
            "account_Contract            0\n",
            "account_PaperlessBilling    0\n",
            "account_PaymentMethod       0\n",
            "account_Charges.Monthly     0\n",
            "account_Charges.Total       0\n",
            "dtype: int64\n",
            "\n",
            "Porcentaje de nulos por columna:\n",
            "\n",
            "Series([], dtype: float64)\n"
          ]
        }
      ]
    },
    {
      "cell_type": "code",
      "source": [
        "# Buscar duplicados totales\n",
        "duplicados = df.duplicated()\n",
        "print(f\"\\nNúmero de registros duplicados: {duplicados.sum()}\")\n",
        "\n",
        "# Eliminar duplicados si hay\n",
        "df = df.drop_duplicates()\n",
        "print(f\"Registros después de eliminar duplicados: {len(df)}\")"
      ],
      "metadata": {
        "colab": {
          "base_uri": "https://localhost:8080/"
        },
        "id": "D0f-GX42nDol",
        "outputId": "01351178-abda-4375-ac25-94b3ff50586a"
      },
      "execution_count": 26,
      "outputs": [
        {
          "output_type": "stream",
          "name": "stdout",
          "text": [
            "\n",
            "Número de registros duplicados: 0\n",
            "Registros después de eliminar duplicados: 7267\n"
          ]
        }
      ]
    },
    {
      "cell_type": "code",
      "source": [
        "# Seleccionar columnas categóricas para revisar\n",
        "columnas_categoricas = df.select_dtypes(include='object').columns\n",
        "\n",
        "# Mostrar valores únicos de cada columna categórica\n",
        "for col in columnas_categoricas:\n",
        "    print(f\"\\nValores únicos en '{col}':\")\n",
        "    print(df[col].unique())"
      ],
      "metadata": {
        "colab": {
          "base_uri": "https://localhost:8080/"
        },
        "id": "H0Zn4b_lnHAW",
        "outputId": "84dd5faa-6913-49cb-f419-80087f2a3afb"
      },
      "execution_count": 27,
      "outputs": [
        {
          "output_type": "stream",
          "name": "stdout",
          "text": [
            "\n",
            "Valores únicos en 'customerID':\n",
            "['0002-ORFBO' '0003-MKNFE' '0004-TLHLJ' ... '9992-UJOEL' '9993-LHIEB'\n",
            " '9995-HOTOH']\n",
            "\n",
            "Valores únicos en 'Churn':\n",
            "['No' 'Yes' '']\n",
            "\n",
            "Valores únicos en 'phone':\n",
            "[\"{'PhoneService': 'Yes', 'MultipleLines': 'No'}\"\n",
            " \"{'PhoneService': 'Yes', 'MultipleLines': 'Yes'}\"\n",
            " \"{'PhoneService': 'No', 'MultipleLines': 'No phone service'}\"]\n",
            "\n",
            "Valores únicos en 'internet':\n",
            "[\"{'InternetService': 'DSL', 'OnlineSecurity': 'No', 'OnlineBackup': 'Yes', 'DeviceProtection': 'No', 'TechSupport': 'Yes', 'StreamingTV': 'Yes', 'StreamingMovies': 'No'}\"\n",
            " \"{'InternetService': 'DSL', 'OnlineSecurity': 'No', 'OnlineBackup': 'No', 'DeviceProtection': 'No', 'TechSupport': 'No', 'StreamingTV': 'No', 'StreamingMovies': 'Yes'}\"\n",
            " \"{'InternetService': 'Fiber optic', 'OnlineSecurity': 'No', 'OnlineBackup': 'No', 'DeviceProtection': 'Yes', 'TechSupport': 'No', 'StreamingTV': 'No', 'StreamingMovies': 'No'}\"\n",
            " \"{'InternetService': 'Fiber optic', 'OnlineSecurity': 'No', 'OnlineBackup': 'Yes', 'DeviceProtection': 'Yes', 'TechSupport': 'No', 'StreamingTV': 'Yes', 'StreamingMovies': 'Yes'}\"\n",
            " \"{'InternetService': 'Fiber optic', 'OnlineSecurity': 'No', 'OnlineBackup': 'No', 'DeviceProtection': 'No', 'TechSupport': 'Yes', 'StreamingTV': 'Yes', 'StreamingMovies': 'No'}\"\n",
            " \"{'InternetService': 'DSL', 'OnlineSecurity': 'No', 'OnlineBackup': 'No', 'DeviceProtection': 'No', 'TechSupport': 'Yes', 'StreamingTV': 'Yes', 'StreamingMovies': 'Yes'}\"\n",
            " \"{'InternetService': 'Fiber optic', 'OnlineSecurity': 'Yes', 'OnlineBackup': 'Yes', 'DeviceProtection': 'Yes', 'TechSupport': 'Yes', 'StreamingTV': 'Yes', 'StreamingMovies': 'Yes'}\"\n",
            " \"{'InternetService': 'Fiber optic', 'OnlineSecurity': 'Yes', 'OnlineBackup': 'No', 'DeviceProtection': 'No', 'TechSupport': 'Yes', 'StreamingTV': 'No', 'StreamingMovies': 'No'}\"\n",
            " \"{'InternetService': 'DSL', 'OnlineSecurity': 'Yes', 'OnlineBackup': 'No', 'DeviceProtection': 'No', 'TechSupport': 'No', 'StreamingTV': 'No', 'StreamingMovies': 'No'}\"\n",
            " \"{'InternetService': 'DSL', 'OnlineSecurity': 'Yes', 'OnlineBackup': 'Yes', 'DeviceProtection': 'Yes', 'TechSupport': 'Yes', 'StreamingTV': 'Yes', 'StreamingMovies': 'Yes'}\"\n",
            " \"{'InternetService': 'DSL', 'OnlineSecurity': 'Yes', 'OnlineBackup': 'No', 'DeviceProtection': 'No', 'TechSupport': 'Yes', 'StreamingTV': 'Yes', 'StreamingMovies': 'No'}\"\n",
            " \"{'InternetService': 'Fiber optic', 'OnlineSecurity': 'No', 'OnlineBackup': 'No', 'DeviceProtection': 'No', 'TechSupport': 'No', 'StreamingTV': 'No', 'StreamingMovies': 'No'}\"\n",
            " \"{'InternetService': 'Fiber optic', 'OnlineSecurity': 'Yes', 'OnlineBackup': 'Yes', 'DeviceProtection': 'Yes', 'TechSupport': 'No', 'StreamingTV': 'Yes', 'StreamingMovies': 'No'}\"\n",
            " \"{'InternetService': 'DSL', 'OnlineSecurity': 'Yes', 'OnlineBackup': 'Yes', 'DeviceProtection': 'Yes', 'TechSupport': 'Yes', 'StreamingTV': 'No', 'StreamingMovies': 'No'}\"\n",
            " \"{'InternetService': 'Fiber optic', 'OnlineSecurity': 'No', 'OnlineBackup': 'Yes', 'DeviceProtection': 'Yes', 'TechSupport': 'No', 'StreamingTV': 'No', 'StreamingMovies': 'Yes'}\"\n",
            " \"{'InternetService': 'DSL', 'OnlineSecurity': 'Yes', 'OnlineBackup': 'No', 'DeviceProtection': 'Yes', 'TechSupport': 'Yes', 'StreamingTV': 'Yes', 'StreamingMovies': 'Yes'}\"\n",
            " \"{'InternetService': 'DSL', 'OnlineSecurity': 'Yes', 'OnlineBackup': 'No', 'DeviceProtection': 'Yes', 'TechSupport': 'No', 'StreamingTV': 'No', 'StreamingMovies': 'Yes'}\"\n",
            " \"{'InternetService': 'DSL', 'OnlineSecurity': 'No', 'OnlineBackup': 'No', 'DeviceProtection': 'No', 'TechSupport': 'No', 'StreamingTV': 'No', 'StreamingMovies': 'No'}\"\n",
            " \"{'InternetService': 'No', 'OnlineSecurity': 'No internet service', 'OnlineBackup': 'No internet service', 'DeviceProtection': 'No internet service', 'TechSupport': 'No internet service', 'StreamingTV': 'No internet service', 'StreamingMovies': 'No internet service'}\"\n",
            " \"{'InternetService': 'Fiber optic', 'OnlineSecurity': 'No', 'OnlineBackup': 'Yes', 'DeviceProtection': 'Yes', 'TechSupport': 'No', 'StreamingTV': 'Yes', 'StreamingMovies': 'No'}\"\n",
            " \"{'InternetService': 'Fiber optic', 'OnlineSecurity': 'No', 'OnlineBackup': 'No', 'DeviceProtection': 'No', 'TechSupport': 'No', 'StreamingTV': 'Yes', 'StreamingMovies': 'No'}\"\n",
            " \"{'InternetService': 'Fiber optic', 'OnlineSecurity': 'No', 'OnlineBackup': 'Yes', 'DeviceProtection': 'Yes', 'TechSupport': 'Yes', 'StreamingTV': 'Yes', 'StreamingMovies': 'Yes'}\"\n",
            " \"{'InternetService': 'Fiber optic', 'OnlineSecurity': 'Yes', 'OnlineBackup': 'No', 'DeviceProtection': 'No', 'TechSupport': 'No', 'StreamingTV': 'No', 'StreamingMovies': 'No'}\"\n",
            " \"{'InternetService': 'Fiber optic', 'OnlineSecurity': 'No', 'OnlineBackup': 'No', 'DeviceProtection': 'No', 'TechSupport': 'No', 'StreamingTV': 'Yes', 'StreamingMovies': 'Yes'}\"\n",
            " \"{'InternetService': 'DSL', 'OnlineSecurity': 'Yes', 'OnlineBackup': 'No', 'DeviceProtection': 'Yes', 'TechSupport': 'Yes', 'StreamingTV': 'No', 'StreamingMovies': 'No'}\"\n",
            " \"{'InternetService': 'Fiber optic', 'OnlineSecurity': 'Yes', 'OnlineBackup': 'No', 'DeviceProtection': 'No', 'TechSupport': 'No', 'StreamingTV': 'Yes', 'StreamingMovies': 'No'}\"\n",
            " \"{'InternetService': 'Fiber optic', 'OnlineSecurity': 'Yes', 'OnlineBackup': 'Yes', 'DeviceProtection': 'No', 'TechSupport': 'No', 'StreamingTV': 'Yes', 'StreamingMovies': 'No'}\"\n",
            " \"{'InternetService': 'DSL', 'OnlineSecurity': 'No', 'OnlineBackup': 'Yes', 'DeviceProtection': 'Yes', 'TechSupport': 'Yes', 'StreamingTV': 'Yes', 'StreamingMovies': 'Yes'}\"\n",
            " \"{'InternetService': 'DSL', 'OnlineSecurity': 'Yes', 'OnlineBackup': 'Yes', 'DeviceProtection': 'Yes', 'TechSupport': 'No', 'StreamingTV': 'No', 'StreamingMovies': 'No'}\"\n",
            " \"{'InternetService': 'DSL', 'OnlineSecurity': 'No', 'OnlineBackup': 'Yes', 'DeviceProtection': 'No', 'TechSupport': 'No', 'StreamingTV': 'No', 'StreamingMovies': 'No'}\"\n",
            " \"{'InternetService': 'Fiber optic', 'OnlineSecurity': 'No', 'OnlineBackup': 'No', 'DeviceProtection': 'Yes', 'TechSupport': 'Yes', 'StreamingTV': 'Yes', 'StreamingMovies': 'Yes'}\"\n",
            " \"{'InternetService': 'Fiber optic', 'OnlineSecurity': 'No', 'OnlineBackup': 'No', 'DeviceProtection': 'No', 'TechSupport': 'Yes', 'StreamingTV': 'Yes', 'StreamingMovies': 'Yes'}\"\n",
            " \"{'InternetService': 'DSL', 'OnlineSecurity': 'Yes', 'OnlineBackup': 'Yes', 'DeviceProtection': 'Yes', 'TechSupport': 'Yes', 'StreamingTV': 'Yes', 'StreamingMovies': 'No'}\"\n",
            " \"{'InternetService': 'Fiber optic', 'OnlineSecurity': 'No', 'OnlineBackup': 'Yes', 'DeviceProtection': 'No', 'TechSupport': 'No', 'StreamingTV': 'Yes', 'StreamingMovies': 'Yes'}\"\n",
            " \"{'InternetService': 'DSL', 'OnlineSecurity': 'Yes', 'OnlineBackup': 'No', 'DeviceProtection': 'No', 'TechSupport': 'No', 'StreamingTV': 'No', 'StreamingMovies': 'Yes'}\"\n",
            " \"{'InternetService': 'DSL', 'OnlineSecurity': 'No', 'OnlineBackup': 'No', 'DeviceProtection': 'Yes', 'TechSupport': 'No', 'StreamingTV': 'No', 'StreamingMovies': 'No'}\"\n",
            " \"{'InternetService': 'DSL', 'OnlineSecurity': 'No', 'OnlineBackup': 'Yes', 'DeviceProtection': 'Yes', 'TechSupport': 'No', 'StreamingTV': 'No', 'StreamingMovies': 'Yes'}\"\n",
            " \"{'InternetService': 'Fiber optic', 'OnlineSecurity': 'No', 'OnlineBackup': 'No', 'DeviceProtection': 'Yes', 'TechSupport': 'No', 'StreamingTV': 'Yes', 'StreamingMovies': 'Yes'}\"\n",
            " \"{'InternetService': 'Fiber optic', 'OnlineSecurity': 'No', 'OnlineBackup': 'No', 'DeviceProtection': 'Yes', 'TechSupport': 'No', 'StreamingTV': 'Yes', 'StreamingMovies': 'No'}\"\n",
            " \"{'InternetService': 'DSL', 'OnlineSecurity': 'Yes', 'OnlineBackup': 'No', 'DeviceProtection': 'No', 'TechSupport': 'Yes', 'StreamingTV': 'No', 'StreamingMovies': 'No'}\"\n",
            " \"{'InternetService': 'DSL', 'OnlineSecurity': 'Yes', 'OnlineBackup': 'No', 'DeviceProtection': 'No', 'TechSupport': 'Yes', 'StreamingTV': 'No', 'StreamingMovies': 'Yes'}\"\n",
            " \"{'InternetService': 'Fiber optic', 'OnlineSecurity': 'No', 'OnlineBackup': 'Yes', 'DeviceProtection': 'No', 'TechSupport': 'No', 'StreamingTV': 'No', 'StreamingMovies': 'Yes'}\"\n",
            " \"{'InternetService': 'Fiber optic', 'OnlineSecurity': 'Yes', 'OnlineBackup': 'Yes', 'DeviceProtection': 'No', 'TechSupport': 'Yes', 'StreamingTV': 'No', 'StreamingMovies': 'No'}\"\n",
            " \"{'InternetService': 'DSL', 'OnlineSecurity': 'No', 'OnlineBackup': 'No', 'DeviceProtection': 'Yes', 'TechSupport': 'Yes', 'StreamingTV': 'Yes', 'StreamingMovies': 'Yes'}\"\n",
            " \"{'InternetService': 'Fiber optic', 'OnlineSecurity': 'No', 'OnlineBackup': 'Yes', 'DeviceProtection': 'No', 'TechSupport': 'No', 'StreamingTV': 'Yes', 'StreamingMovies': 'No'}\"\n",
            " \"{'InternetService': 'Fiber optic', 'OnlineSecurity': 'No', 'OnlineBackup': 'Yes', 'DeviceProtection': 'No', 'TechSupport': 'No', 'StreamingTV': 'No', 'StreamingMovies': 'No'}\"\n",
            " \"{'InternetService': 'Fiber optic', 'OnlineSecurity': 'No', 'OnlineBackup': 'Yes', 'DeviceProtection': 'Yes', 'TechSupport': 'No', 'StreamingTV': 'No', 'StreamingMovies': 'No'}\"\n",
            " \"{'InternetService': 'DSL', 'OnlineSecurity': 'Yes', 'OnlineBackup': 'Yes', 'DeviceProtection': 'No', 'TechSupport': 'Yes', 'StreamingTV': 'No', 'StreamingMovies': 'No'}\"\n",
            " \"{'InternetService': 'Fiber optic', 'OnlineSecurity': 'Yes', 'OnlineBackup': 'No', 'DeviceProtection': 'Yes', 'TechSupport': 'Yes', 'StreamingTV': 'Yes', 'StreamingMovies': 'Yes'}\"\n",
            " \"{'InternetService': 'DSL', 'OnlineSecurity': 'Yes', 'OnlineBackup': 'Yes', 'DeviceProtection': 'No', 'TechSupport': 'No', 'StreamingTV': 'Yes', 'StreamingMovies': 'Yes'}\"\n",
            " \"{'InternetService': 'Fiber optic', 'OnlineSecurity': 'Yes', 'OnlineBackup': 'Yes', 'DeviceProtection': 'No', 'TechSupport': 'Yes', 'StreamingTV': 'Yes', 'StreamingMovies': 'Yes'}\"\n",
            " \"{'InternetService': 'Fiber optic', 'OnlineSecurity': 'No', 'OnlineBackup': 'No', 'DeviceProtection': 'No', 'TechSupport': 'No', 'StreamingTV': 'No', 'StreamingMovies': 'Yes'}\"\n",
            " \"{'InternetService': 'Fiber optic', 'OnlineSecurity': 'Yes', 'OnlineBackup': 'No', 'DeviceProtection': 'Yes', 'TechSupport': 'No', 'StreamingTV': 'No', 'StreamingMovies': 'No'}\"\n",
            " \"{'InternetService': 'Fiber optic', 'OnlineSecurity': 'Yes', 'OnlineBackup': 'No', 'DeviceProtection': 'No', 'TechSupport': 'No', 'StreamingTV': 'Yes', 'StreamingMovies': 'Yes'}\"\n",
            " \"{'InternetService': 'DSL', 'OnlineSecurity': 'No', 'OnlineBackup': 'Yes', 'DeviceProtection': 'No', 'TechSupport': 'No', 'StreamingTV': 'Yes', 'StreamingMovies': 'Yes'}\"\n",
            " \"{'InternetService': 'Fiber optic', 'OnlineSecurity': 'Yes', 'OnlineBackup': 'Yes', 'DeviceProtection': 'Yes', 'TechSupport': 'No', 'StreamingTV': 'No', 'StreamingMovies': 'No'}\"\n",
            " \"{'InternetService': 'Fiber optic', 'OnlineSecurity': 'No', 'OnlineBackup': 'No', 'DeviceProtection': 'Yes', 'TechSupport': 'No', 'StreamingTV': 'No', 'StreamingMovies': 'Yes'}\"\n",
            " \"{'InternetService': 'DSL', 'OnlineSecurity': 'Yes', 'OnlineBackup': 'No', 'DeviceProtection': 'No', 'TechSupport': 'No', 'StreamingTV': 'Yes', 'StreamingMovies': 'Yes'}\"\n",
            " \"{'InternetService': 'DSL', 'OnlineSecurity': 'No', 'OnlineBackup': 'No', 'DeviceProtection': 'Yes', 'TechSupport': 'Yes', 'StreamingTV': 'No', 'StreamingMovies': 'No'}\"\n",
            " \"{'InternetService': 'Fiber optic', 'OnlineSecurity': 'No', 'OnlineBackup': 'No', 'DeviceProtection': 'No', 'TechSupport': 'Yes', 'StreamingTV': 'No', 'StreamingMovies': 'No'}\"\n",
            " \"{'InternetService': 'Fiber optic', 'OnlineSecurity': 'Yes', 'OnlineBackup': 'Yes', 'DeviceProtection': 'No', 'TechSupport': 'No', 'StreamingTV': 'No', 'StreamingMovies': 'No'}\"\n",
            " \"{'InternetService': 'Fiber optic', 'OnlineSecurity': 'Yes', 'OnlineBackup': 'Yes', 'DeviceProtection': 'No', 'TechSupport': 'Yes', 'StreamingTV': 'Yes', 'StreamingMovies': 'No'}\"\n",
            " \"{'InternetService': 'DSL', 'OnlineSecurity': 'No', 'OnlineBackup': 'Yes', 'DeviceProtection': 'No', 'TechSupport': 'Yes', 'StreamingTV': 'Yes', 'StreamingMovies': 'Yes'}\"\n",
            " \"{'InternetService': 'DSL', 'OnlineSecurity': 'Yes', 'OnlineBackup': 'Yes', 'DeviceProtection': 'Yes', 'TechSupport': 'Yes', 'StreamingTV': 'No', 'StreamingMovies': 'Yes'}\"\n",
            " \"{'InternetService': 'DSL', 'OnlineSecurity': 'No', 'OnlineBackup': 'Yes', 'DeviceProtection': 'Yes', 'TechSupport': 'No', 'StreamingTV': 'No', 'StreamingMovies': 'No'}\"\n",
            " \"{'InternetService': 'Fiber optic', 'OnlineSecurity': 'Yes', 'OnlineBackup': 'No', 'DeviceProtection': 'Yes', 'TechSupport': 'No', 'StreamingTV': 'Yes', 'StreamingMovies': 'Yes'}\"\n",
            " \"{'InternetService': 'DSL', 'OnlineSecurity': 'Yes', 'OnlineBackup': 'Yes', 'DeviceProtection': 'Yes', 'TechSupport': 'No', 'StreamingTV': 'Yes', 'StreamingMovies': 'Yes'}\"\n",
            " \"{'InternetService': 'DSL', 'OnlineSecurity': 'No', 'OnlineBackup': 'No', 'DeviceProtection': 'No', 'TechSupport': 'No', 'StreamingTV': 'Yes', 'StreamingMovies': 'No'}\"\n",
            " \"{'InternetService': 'DSL', 'OnlineSecurity': 'No', 'OnlineBackup': 'No', 'DeviceProtection': 'No', 'TechSupport': 'Yes', 'StreamingTV': 'No', 'StreamingMovies': 'No'}\"\n",
            " \"{'InternetService': 'DSL', 'OnlineSecurity': 'Yes', 'OnlineBackup': 'Yes', 'DeviceProtection': 'No', 'TechSupport': 'No', 'StreamingTV': 'No', 'StreamingMovies': 'No'}\"\n",
            " \"{'InternetService': 'DSL', 'OnlineSecurity': 'No', 'OnlineBackup': 'No', 'DeviceProtection': 'Yes', 'TechSupport': 'Yes', 'StreamingTV': 'Yes', 'StreamingMovies': 'No'}\"\n",
            " \"{'InternetService': 'DSL', 'OnlineSecurity': 'No', 'OnlineBackup': 'Yes', 'DeviceProtection': 'No', 'TechSupport': 'Yes', 'StreamingTV': 'No', 'StreamingMovies': 'Yes'}\"\n",
            " \"{'InternetService': 'DSL', 'OnlineSecurity': 'No', 'OnlineBackup': 'Yes', 'DeviceProtection': 'Yes', 'TechSupport': 'Yes', 'StreamingTV': 'Yes', 'StreamingMovies': 'No'}\"\n",
            " \"{'InternetService': 'DSL', 'OnlineSecurity': 'No', 'OnlineBackup': 'No', 'DeviceProtection': 'Yes', 'TechSupport': 'No', 'StreamingTV': 'No', 'StreamingMovies': 'Yes'}\"\n",
            " \"{'InternetService': 'Fiber optic', 'OnlineSecurity': 'No', 'OnlineBackup': 'Yes', 'DeviceProtection': 'No', 'TechSupport': 'Yes', 'StreamingTV': 'Yes', 'StreamingMovies': 'Yes'}\"\n",
            " \"{'InternetService': 'DSL', 'OnlineSecurity': 'No', 'OnlineBackup': 'Yes', 'DeviceProtection': 'Yes', 'TechSupport': 'Yes', 'StreamingTV': 'No', 'StreamingMovies': 'No'}\"\n",
            " \"{'InternetService': 'DSL', 'OnlineSecurity': 'No', 'OnlineBackup': 'Yes', 'DeviceProtection': 'No', 'TechSupport': 'No', 'StreamingTV': 'Yes', 'StreamingMovies': 'No'}\"\n",
            " \"{'InternetService': 'Fiber optic', 'OnlineSecurity': 'Yes', 'OnlineBackup': 'Yes', 'DeviceProtection': 'Yes', 'TechSupport': 'Yes', 'StreamingTV': 'No', 'StreamingMovies': 'Yes'}\"\n",
            " \"{'InternetService': 'Fiber optic', 'OnlineSecurity': 'Yes', 'OnlineBackup': 'No', 'DeviceProtection': 'No', 'TechSupport': 'Yes', 'StreamingTV': 'Yes', 'StreamingMovies': 'Yes'}\"\n",
            " \"{'InternetService': 'Fiber optic', 'OnlineSecurity': 'No', 'OnlineBackup': 'Yes', 'DeviceProtection': 'Yes', 'TechSupport': 'Yes', 'StreamingTV': 'Yes', 'StreamingMovies': 'No'}\"\n",
            " \"{'InternetService': 'Fiber optic', 'OnlineSecurity': 'No', 'OnlineBackup': 'No', 'DeviceProtection': 'Yes', 'TechSupport': 'Yes', 'StreamingTV': 'No', 'StreamingMovies': 'No'}\"\n",
            " \"{'InternetService': 'Fiber optic', 'OnlineSecurity': 'No', 'OnlineBackup': 'No', 'DeviceProtection': 'No', 'TechSupport': 'Yes', 'StreamingTV': 'No', 'StreamingMovies': 'Yes'}\"\n",
            " \"{'InternetService': 'DSL', 'OnlineSecurity': 'No', 'OnlineBackup': 'Yes', 'DeviceProtection': 'No', 'TechSupport': 'Yes', 'StreamingTV': 'No', 'StreamingMovies': 'No'}\"\n",
            " \"{'InternetService': 'Fiber optic', 'OnlineSecurity': 'Yes', 'OnlineBackup': 'Yes', 'DeviceProtection': 'Yes', 'TechSupport': 'No', 'StreamingTV': 'Yes', 'StreamingMovies': 'Yes'}\"\n",
            " \"{'InternetService': 'DSL', 'OnlineSecurity': 'No', 'OnlineBackup': 'Yes', 'DeviceProtection': 'Yes', 'TechSupport': 'No', 'StreamingTV': 'Yes', 'StreamingMovies': 'Yes'}\"\n",
            " \"{'InternetService': 'Fiber optic', 'OnlineSecurity': 'No', 'OnlineBackup': 'Yes', 'DeviceProtection': 'Yes', 'TechSupport': 'Yes', 'StreamingTV': 'No', 'StreamingMovies': 'Yes'}\"\n",
            " \"{'InternetService': 'Fiber optic', 'OnlineSecurity': 'No', 'OnlineBackup': 'Yes', 'DeviceProtection': 'No', 'TechSupport': 'Yes', 'StreamingTV': 'No', 'StreamingMovies': 'No'}\"\n",
            " \"{'InternetService': 'DSL', 'OnlineSecurity': 'Yes', 'OnlineBackup': 'Yes', 'DeviceProtection': 'No', 'TechSupport': 'Yes', 'StreamingTV': 'Yes', 'StreamingMovies': 'Yes'}\"\n",
            " \"{'InternetService': 'Fiber optic', 'OnlineSecurity': 'No', 'OnlineBackup': 'Yes', 'DeviceProtection': 'Yes', 'TechSupport': 'Yes', 'StreamingTV': 'No', 'StreamingMovies': 'No'}\"\n",
            " \"{'InternetService': 'DSL', 'OnlineSecurity': 'No', 'OnlineBackup': 'No', 'DeviceProtection': 'Yes', 'TechSupport': 'No', 'StreamingTV': 'Yes', 'StreamingMovies': 'Yes'}\"\n",
            " \"{'InternetService': 'DSL', 'OnlineSecurity': 'No', 'OnlineBackup': 'No', 'DeviceProtection': 'No', 'TechSupport': 'No', 'StreamingTV': 'Yes', 'StreamingMovies': 'Yes'}\"\n",
            " \"{'InternetService': 'Fiber optic', 'OnlineSecurity': 'Yes', 'OnlineBackup': 'No', 'DeviceProtection': 'Yes', 'TechSupport': 'Yes', 'StreamingTV': 'Yes', 'StreamingMovies': 'No'}\"\n",
            " \"{'InternetService': 'DSL', 'OnlineSecurity': 'Yes', 'OnlineBackup': 'No', 'DeviceProtection': 'No', 'TechSupport': 'Yes', 'StreamingTV': 'Yes', 'StreamingMovies': 'Yes'}\"\n",
            " \"{'InternetService': 'DSL', 'OnlineSecurity': 'No', 'OnlineBackup': 'Yes', 'DeviceProtection': 'Yes', 'TechSupport': 'No', 'StreamingTV': 'Yes', 'StreamingMovies': 'No'}\"\n",
            " \"{'InternetService': 'DSL', 'OnlineSecurity': 'Yes', 'OnlineBackup': 'Yes', 'DeviceProtection': 'No', 'TechSupport': 'Yes', 'StreamingTV': 'Yes', 'StreamingMovies': 'No'}\"\n",
            " \"{'InternetService': 'Fiber optic', 'OnlineSecurity': 'No', 'OnlineBackup': 'No', 'DeviceProtection': 'Yes', 'TechSupport': 'Yes', 'StreamingTV': 'No', 'StreamingMovies': 'Yes'}\"\n",
            " \"{'InternetService': 'Fiber optic', 'OnlineSecurity': 'Yes', 'OnlineBackup': 'Yes', 'DeviceProtection': 'Yes', 'TechSupport': 'Yes', 'StreamingTV': 'Yes', 'StreamingMovies': 'No'}\"\n",
            " \"{'InternetService': 'Fiber optic', 'OnlineSecurity': 'Yes', 'OnlineBackup': 'No', 'DeviceProtection': 'Yes', 'TechSupport': 'Yes', 'StreamingTV': 'No', 'StreamingMovies': 'Yes'}\"\n",
            " \"{'InternetService': 'Fiber optic', 'OnlineSecurity': 'Yes', 'OnlineBackup': 'Yes', 'DeviceProtection': 'Yes', 'TechSupport': 'No', 'StreamingTV': 'No', 'StreamingMovies': 'Yes'}\"\n",
            " \"{'InternetService': 'DSL', 'OnlineSecurity': 'Yes', 'OnlineBackup': 'No', 'DeviceProtection': 'Yes', 'TechSupport': 'Yes', 'StreamingTV': 'No', 'StreamingMovies': 'Yes'}\"\n",
            " \"{'InternetService': 'Fiber optic', 'OnlineSecurity': 'Yes', 'OnlineBackup': 'No', 'DeviceProtection': 'No', 'TechSupport': 'Yes', 'StreamingTV': 'No', 'StreamingMovies': 'Yes'}\"\n",
            " \"{'InternetService': 'DSL', 'OnlineSecurity': 'Yes', 'OnlineBackup': 'No', 'DeviceProtection': 'No', 'TechSupport': 'No', 'StreamingTV': 'Yes', 'StreamingMovies': 'No'}\"\n",
            " \"{'InternetService': 'DSL', 'OnlineSecurity': 'Yes', 'OnlineBackup': 'No', 'DeviceProtection': 'Yes', 'TechSupport': 'Yes', 'StreamingTV': 'Yes', 'StreamingMovies': 'No'}\"\n",
            " \"{'InternetService': 'Fiber optic', 'OnlineSecurity': 'Yes', 'OnlineBackup': 'No', 'DeviceProtection': 'No', 'TechSupport': 'No', 'StreamingTV': 'No', 'StreamingMovies': 'Yes'}\"\n",
            " \"{'InternetService': 'DSL', 'OnlineSecurity': 'No', 'OnlineBackup': 'No', 'DeviceProtection': 'Yes', 'TechSupport': 'Yes', 'StreamingTV': 'No', 'StreamingMovies': 'Yes'}\"\n",
            " \"{'InternetService': 'DSL', 'OnlineSecurity': 'Yes', 'OnlineBackup': 'Yes', 'DeviceProtection': 'Yes', 'TechSupport': 'No', 'StreamingTV': 'No', 'StreamingMovies': 'Yes'}\"\n",
            " \"{'InternetService': 'DSL', 'OnlineSecurity': 'No', 'OnlineBackup': 'No', 'DeviceProtection': 'No', 'TechSupport': 'Yes', 'StreamingTV': 'Yes', 'StreamingMovies': 'No'}\"\n",
            " \"{'InternetService': 'Fiber optic', 'OnlineSecurity': 'Yes', 'OnlineBackup': 'Yes', 'DeviceProtection': 'No', 'TechSupport': 'No', 'StreamingTV': 'No', 'StreamingMovies': 'Yes'}\"\n",
            " \"{'InternetService': 'DSL', 'OnlineSecurity': 'Yes', 'OnlineBackup': 'No', 'DeviceProtection': 'Yes', 'TechSupport': 'No', 'StreamingTV': 'Yes', 'StreamingMovies': 'Yes'}\"\n",
            " \"{'InternetService': 'DSL', 'OnlineSecurity': 'Yes', 'OnlineBackup': 'Yes', 'DeviceProtection': 'No', 'TechSupport': 'Yes', 'StreamingTV': 'No', 'StreamingMovies': 'Yes'}\"\n",
            " \"{'InternetService': 'Fiber optic', 'OnlineSecurity': 'Yes', 'OnlineBackup': 'No', 'DeviceProtection': 'Yes', 'TechSupport': 'No', 'StreamingTV': 'Yes', 'StreamingMovies': 'No'}\"\n",
            " \"{'InternetService': 'Fiber optic', 'OnlineSecurity': 'No', 'OnlineBackup': 'No', 'DeviceProtection': 'Yes', 'TechSupport': 'Yes', 'StreamingTV': 'Yes', 'StreamingMovies': 'No'}\"\n",
            " \"{'InternetService': 'Fiber optic', 'OnlineSecurity': 'Yes', 'OnlineBackup': 'Yes', 'DeviceProtection': 'No', 'TechSupport': 'No', 'StreamingTV': 'Yes', 'StreamingMovies': 'Yes'}\"\n",
            " \"{'InternetService': 'DSL', 'OnlineSecurity': 'No', 'OnlineBackup': 'No', 'DeviceProtection': 'Yes', 'TechSupport': 'No', 'StreamingTV': 'Yes', 'StreamingMovies': 'No'}\"\n",
            " \"{'InternetService': 'DSL', 'OnlineSecurity': 'Yes', 'OnlineBackup': 'Yes', 'DeviceProtection': 'Yes', 'TechSupport': 'No', 'StreamingTV': 'Yes', 'StreamingMovies': 'No'}\"\n",
            " \"{'InternetService': 'Fiber optic', 'OnlineSecurity': 'No', 'OnlineBackup': 'Yes', 'DeviceProtection': 'No', 'TechSupport': 'Yes', 'StreamingTV': 'Yes', 'StreamingMovies': 'No'}\"\n",
            " \"{'InternetService': 'DSL', 'OnlineSecurity': 'No', 'OnlineBackup': 'Yes', 'DeviceProtection': 'Yes', 'TechSupport': 'Yes', 'StreamingTV': 'No', 'StreamingMovies': 'Yes'}\"\n",
            " \"{'InternetService': 'DSL', 'OnlineSecurity': 'Yes', 'OnlineBackup': 'No', 'DeviceProtection': 'Yes', 'TechSupport': 'No', 'StreamingTV': 'No', 'StreamingMovies': 'No'}\"\n",
            " \"{'InternetService': 'DSL', 'OnlineSecurity': 'No', 'OnlineBackup': 'Yes', 'DeviceProtection': 'No', 'TechSupport': 'No', 'StreamingTV': 'No', 'StreamingMovies': 'Yes'}\"\n",
            " \"{'InternetService': 'DSL', 'OnlineSecurity': 'Yes', 'OnlineBackup': 'Yes', 'DeviceProtection': 'No', 'TechSupport': 'No', 'StreamingTV': 'No', 'StreamingMovies': 'Yes'}\"\n",
            " \"{'InternetService': 'Fiber optic', 'OnlineSecurity': 'Yes', 'OnlineBackup': 'No', 'DeviceProtection': 'Yes', 'TechSupport': 'No', 'StreamingTV': 'No', 'StreamingMovies': 'Yes'}\"\n",
            " \"{'InternetService': 'DSL', 'OnlineSecurity': 'No', 'OnlineBackup': 'No', 'DeviceProtection': 'No', 'TechSupport': 'Yes', 'StreamingTV': 'No', 'StreamingMovies': 'Yes'}\"\n",
            " \"{'InternetService': 'Fiber optic', 'OnlineSecurity': 'Yes', 'OnlineBackup': 'No', 'DeviceProtection': 'Yes', 'TechSupport': 'Yes', 'StreamingTV': 'No', 'StreamingMovies': 'No'}\"\n",
            " \"{'InternetService': 'Fiber optic', 'OnlineSecurity': 'No', 'OnlineBackup': 'Yes', 'DeviceProtection': 'No', 'TechSupport': 'Yes', 'StreamingTV': 'No', 'StreamingMovies': 'Yes'}\"\n",
            " \"{'InternetService': 'DSL', 'OnlineSecurity': 'Yes', 'OnlineBackup': 'No', 'DeviceProtection': 'Yes', 'TechSupport': 'No', 'StreamingTV': 'Yes', 'StreamingMovies': 'No'}\"\n",
            " \"{'InternetService': 'Fiber optic', 'OnlineSecurity': 'Yes', 'OnlineBackup': 'Yes', 'DeviceProtection': 'Yes', 'TechSupport': 'Yes', 'StreamingTV': 'No', 'StreamingMovies': 'No'}\"\n",
            " \"{'InternetService': 'Fiber optic', 'OnlineSecurity': 'Yes', 'OnlineBackup': 'Yes', 'DeviceProtection': 'No', 'TechSupport': 'Yes', 'StreamingTV': 'No', 'StreamingMovies': 'Yes'}\"\n",
            " \"{'InternetService': 'DSL', 'OnlineSecurity': 'Yes', 'OnlineBackup': 'Yes', 'DeviceProtection': 'No', 'TechSupport': 'No', 'StreamingTV': 'Yes', 'StreamingMovies': 'No'}\"\n",
            " \"{'InternetService': 'Fiber optic', 'OnlineSecurity': 'Yes', 'OnlineBackup': 'No', 'DeviceProtection': 'No', 'TechSupport': 'Yes', 'StreamingTV': 'Yes', 'StreamingMovies': 'No'}\"]\n",
            "\n",
            "Valores únicos en 'gender':\n",
            "['Female' 'Male']\n",
            "\n",
            "Valores únicos en 'Partner':\n",
            "['Yes' 'No']\n",
            "\n",
            "Valores únicos en 'Dependents':\n",
            "['Yes' 'No']\n",
            "\n",
            "Valores únicos en 'account_Contract':\n",
            "['One year' 'Month-to-month' 'Two year']\n",
            "\n",
            "Valores únicos en 'account_PaperlessBilling':\n",
            "['Yes' 'No']\n",
            "\n",
            "Valores únicos en 'account_PaymentMethod':\n",
            "['Mailed check' 'Electronic check' 'Credit card (automatic)'\n",
            " 'Bank transfer (automatic)']\n",
            "\n",
            "Valores únicos en 'account_Charges.Total':\n",
            "['593.3' '542.4' '280.85' ... '742.9' '4627.65' '3707.6']\n"
          ]
        }
      ]
    },
    {
      "cell_type": "code",
      "source": [
        "# Verifica si alguna columna tiene datos datetime\n",
        "columnas_fecha = df.select_dtypes(include='datetime64').columns\n",
        "\n",
        "for col in columnas_fecha:\n",
        "    df[col] = df[col].dt.normalize()\n",
        "    print(f\"Columna '{col}' normalizada sin hora.\")"
      ],
      "metadata": {
        "id": "DNKjLjIPnYaW"
      },
      "execution_count": 29,
      "outputs": []
    },
    {
      "cell_type": "code",
      "source": [
        "# Revisión general de tipos de datos\n",
        "print(\"\\nTipos de datos:\")\n",
        "print(df.dtypes)"
      ],
      "metadata": {
        "colab": {
          "base_uri": "https://localhost:8080/"
        },
        "id": "g8PVx_xhncw9",
        "outputId": "b099eb8f-311b-4171-e967-daf5810a86ec"
      },
      "execution_count": 33,
      "outputs": [
        {
          "output_type": "stream",
          "name": "stdout",
          "text": [
            "\n",
            "Tipos de datos:\n",
            "customerID                   object\n",
            "Churn                        object\n",
            "phone                        object\n",
            "internet                     object\n",
            "gender                       object\n",
            "SeniorCitizen                 int64\n",
            "Partner                      object\n",
            "Dependents                   object\n",
            "tenure                        int64\n",
            "account_Contract             object\n",
            "account_PaperlessBilling     object\n",
            "account_PaymentMethod        object\n",
            "account_Charges.Monthly     float64\n",
            "account_Charges.Total        object\n",
            "dtype: object\n"
          ]
        }
      ]
    },
    {
      "cell_type": "code",
      "source": [
        "columnas_categoricas = df.select_dtypes(include='object').columns\n",
        "\n",
        "# Normalizar texto: todo en minúsculas y sin espacios extra\n",
        "for col in columnas_categoricas:\n",
        "    df[col] = df[col].str.lower().str.strip()\n"
      ],
      "metadata": {
        "id": "XFRyUt6Ln6uO"
      },
      "execution_count": 34,
      "outputs": []
    },
    {
      "cell_type": "code",
      "source": [
        "# 1. Normalizar columnas categóricas\n",
        "cols_binarias = ['Churn', 'Partner', 'Dependents', 'account_PaperlessBilling']\n",
        "\n",
        "for col in cols_binarias:\n",
        "    df[col] = df[col].str.lower().str.strip().replace({'yes': 'si', 'no': 'no'})\n",
        "\n",
        "# 2. Normalizar 'gender'\n",
        "df['gender'] = df['gender'].str.lower().str.strip()\n",
        "df['gender'] = df['gender'].replace({'f': 'female', 'm': 'male', 'fem': 'female', 'masc': 'male'})\n",
        "\n",
        "# 3. Convertir 'SeniorCitizen' a booleano si se desea\n",
        "df['SeniorCitizen'] = df['SeniorCitizen'].astype(bool)\n",
        "\n",
        "# 4. Limpiar 'account_Contract'\n",
        "df['account_Contract'] = df['account_Contract'].str.lower().str.strip().replace({\n",
        "    'month-to-month': 'mensual',\n",
        "    'one year': 'anual',\n",
        "    'two year': 'bienal'\n",
        "})\n",
        "\n",
        "# 5. Limpiar método de pago\n",
        "df['account_PaymentMethod'] = df['account_PaymentMethod'].str.lower().str.strip()\n",
        "\n",
        "# 6. Convertir 'account_Charges.Total' a numérico\n",
        "df['account_Charges.Total'] = pd.to_numeric(df['account_Charges.Total'], errors='coerce')\n"
      ],
      "metadata": {
        "id": "0tQc7J6eolz4"
      },
      "execution_count": 37,
      "outputs": []
    },
    {
      "cell_type": "code",
      "source": [
        "print(df.dtypes)\n",
        "print(df.isnull().sum())"
      ],
      "metadata": {
        "colab": {
          "base_uri": "https://localhost:8080/"
        },
        "id": "jp-eLFtxooxV",
        "outputId": "391803a9-d938-4950-8997-9d86b37dfc1b"
      },
      "execution_count": 38,
      "outputs": [
        {
          "output_type": "stream",
          "name": "stdout",
          "text": [
            "customerID                   object\n",
            "Churn                        object\n",
            "phone                        object\n",
            "internet                     object\n",
            "gender                       object\n",
            "SeniorCitizen                  bool\n",
            "Partner                      object\n",
            "Dependents                   object\n",
            "tenure                        int64\n",
            "account_Contract             object\n",
            "account_PaperlessBilling     object\n",
            "account_PaymentMethod        object\n",
            "account_Charges.Monthly     float64\n",
            "account_Charges.Total       float64\n",
            "dtype: object\n",
            "customerID                   0\n",
            "Churn                        0\n",
            "phone                        0\n",
            "internet                     0\n",
            "gender                       0\n",
            "SeniorCitizen                0\n",
            "Partner                      0\n",
            "Dependents                   0\n",
            "tenure                       0\n",
            "account_Contract             0\n",
            "account_PaperlessBilling     0\n",
            "account_PaymentMethod        0\n",
            "account_Charges.Monthly      0\n",
            "account_Charges.Total       11\n",
            "dtype: int64\n"
          ]
        }
      ]
    },
    {
      "cell_type": "code",
      "source": [
        "df['account_Charges.Total'] = df['account_Charges.Total'].fillna(0)"
      ],
      "metadata": {
        "id": "8dS6RjYPpPA1"
      },
      "execution_count": 40,
      "outputs": []
    },
    {
      "cell_type": "code",
      "source": [
        "print(\"¿Aún hay nulos en account_Charges.Total?\")\n",
        "print(df['account_Charges.Total'].isnull().sum())"
      ],
      "metadata": {
        "colab": {
          "base_uri": "https://localhost:8080/"
        },
        "id": "TY8br64IpQ4V",
        "outputId": "2ff258bf-2160-4a2e-9cbb-c7ec01fa4f02"
      },
      "execution_count": 41,
      "outputs": [
        {
          "output_type": "stream",
          "name": "stdout",
          "text": [
            "¿Aún hay nulos en account_Charges.Total?\n",
            "0\n"
          ]
        }
      ]
    },
    {
      "cell_type": "code",
      "source": [
        "binarias = ['Churn', 'Partner', 'Dependents', 'account_PaperlessBilling']\n",
        "\n",
        "for col in binarias:\n",
        "    df[col] = df[col].map({'si': 1, 'no': 0})"
      ],
      "metadata": {
        "id": "ZWQgs79CpVtF"
      },
      "execution_count": 42,
      "outputs": []
    },
    {
      "cell_type": "code",
      "source": [
        "df.rename(columns={\n",
        "    'Churn': 'Evasion',\n",
        "    'Partner': 'TienePareja',\n",
        "    'Dependents': 'TieneDependientes',\n",
        "    'account_Contract': 'TipoContrato',\n",
        "    'account_PaperlessBilling': 'FacturacionElectronica',\n",
        "    'account_PaymentMethod': 'MetodoPago',\n",
        "    'account_Charges.Monthly': 'PagoMensual',\n",
        "    'account_Charges.Total': 'PagoTotal'\n",
        "}, inplace=True)"
      ],
      "metadata": {
        "id": "iVC0vzdfpwI9"
      },
      "execution_count": 43,
      "outputs": []
    },
    {
      "cell_type": "code",
      "source": [
        "categoricas = ['gender', 'TipoContrato', 'MetodoPago']\n",
        "for col in categoricas:\n",
        "    df[col] = df[col].astype('category')"
      ],
      "metadata": {
        "id": "2WjvY-fDp1J9"
      },
      "execution_count": 44,
      "outputs": []
    },
    {
      "cell_type": "code",
      "source": [
        "print(\"Tipos de datos actualizados:\\n\")\n",
        "print(df.dtypes)\n",
        "\n",
        "print(\"\\nValores únicos en columnas renombradas:\")\n",
        "for col in ['Evasion', 'TienePareja', 'TieneDependientes', 'FacturacionElectronica']:\n",
        "    print(f\"{col}: {df[col].unique()}\")"
      ],
      "metadata": {
        "colab": {
          "base_uri": "https://localhost:8080/"
        },
        "id": "80o5U3PYp4UV",
        "outputId": "50241b25-4af6-493d-8eef-c1acf1f703ee"
      },
      "execution_count": 45,
      "outputs": [
        {
          "output_type": "stream",
          "name": "stdout",
          "text": [
            "Tipos de datos actualizados:\n",
            "\n",
            "customerID                  object\n",
            "Evasion                    float64\n",
            "phone                       object\n",
            "internet                    object\n",
            "gender                    category\n",
            "SeniorCitizen                 bool\n",
            "TienePareja                  int64\n",
            "TieneDependientes            int64\n",
            "tenure                       int64\n",
            "TipoContrato              category\n",
            "FacturacionElectronica       int64\n",
            "MetodoPago                category\n",
            "PagoMensual                float64\n",
            "PagoTotal                  float64\n",
            "dtype: object\n",
            "\n",
            "Valores únicos en columnas renombradas:\n",
            "Evasion: [ 0.  1. nan]\n",
            "TienePareja: [1 0]\n",
            "TieneDependientes: [1 0]\n",
            "FacturacionElectronica: [1 0]\n"
          ]
        }
      ]
    },
    {
      "cell_type": "code",
      "source": [
        "# Verificar valores únicos originales si aún tienes la copia\n",
        "# print(df_original['Churn'].unique())\n",
        "\n",
        "# Reaplicar mapeo asegurando limpieza total\n",
        "df['Evasion'] = df['Evasion'].fillna(0)  # o eliminar si es muy pocos registros"
      ],
      "metadata": {
        "id": "KeXQC5F_qIM2"
      },
      "execution_count": 46,
      "outputs": []
    },
    {
      "cell_type": "code",
      "source": [
        "print(\"Valores únicos en Evasion:\")\n",
        "print(df['Evasion'].unique())\n",
        "\n",
        "print(\"\\nDimensiones del dataset final:\", df.shape)"
      ],
      "metadata": {
        "colab": {
          "base_uri": "https://localhost:8080/"
        },
        "id": "CoT-iTUFqJ_m",
        "outputId": "3d6efdac-1631-462a-f3d5-1677922b4058"
      },
      "execution_count": 47,
      "outputs": [
        {
          "output_type": "stream",
          "name": "stdout",
          "text": [
            "Valores únicos en Evasion:\n",
            "[0. 1.]\n",
            "\n",
            "Dimensiones del dataset final: (7267, 14)\n"
          ]
        }
      ]
    },
    {
      "cell_type": "code",
      "source": [
        "# Crear columna \"Cuentas_Diarias\" a partir de \"PagoMensual\"\n",
        "df['Cuentas_Diarias'] = df['PagoMensual'] / 30"
      ],
      "metadata": {
        "id": "9nNmRYTiqhLu"
      },
      "execution_count": 48,
      "outputs": []
    },
    {
      "cell_type": "code",
      "source": [
        "print(df[['PagoMensual', 'Cuentas_Diarias']].head())\n",
        "print(\"\\nResumen estadístico:\")\n",
        "print(df['Cuentas_Diarias'].describe())"
      ],
      "metadata": {
        "colab": {
          "base_uri": "https://localhost:8080/"
        },
        "id": "UvDkeM-sqkvG",
        "outputId": "621877d7-2103-444f-a147-14a26dcf20ba"
      },
      "execution_count": 49,
      "outputs": [
        {
          "output_type": "stream",
          "name": "stdout",
          "text": [
            "   PagoMensual  Cuentas_Diarias\n",
            "0         65.6         2.186667\n",
            "1         59.9         1.996667\n",
            "2         73.9         2.463333\n",
            "3         98.0         3.266667\n",
            "4         83.9         2.796667\n",
            "\n",
            "Resumen estadístico:\n",
            "count    7267.000000\n",
            "mean        2.157337\n",
            "std         1.004319\n",
            "min         0.608333\n",
            "25%         1.180833\n",
            "50%         2.343333\n",
            "75%         2.995833\n",
            "max         3.958333\n",
            "Name: Cuentas_Diarias, dtype: float64\n"
          ]
        }
      ]
    },
    {
      "cell_type": "code",
      "source": [
        "# Análisis estadístico de columnas numéricas\n",
        "df.describe()"
      ],
      "metadata": {
        "colab": {
          "base_uri": "https://localhost:8080/",
          "height": 300
        },
        "id": "iPVdEEJxrJ_2",
        "outputId": "74d9aeb7-ced9-4351-825e-1ec0bb672a16"
      },
      "execution_count": 50,
      "outputs": [
        {
          "output_type": "execute_result",
          "data": {
            "text/plain": [
              "           Evasion  TienePareja  TieneDependientes       tenure  \\\n",
              "count  7267.000000  7267.000000        7267.000000  7267.000000   \n",
              "mean      0.257190     0.484106           0.300124    32.346498   \n",
              "std       0.437115     0.499782           0.458343    24.571773   \n",
              "min       0.000000     0.000000           0.000000     0.000000   \n",
              "25%       0.000000     0.000000           0.000000     9.000000   \n",
              "50%       0.000000     0.000000           0.000000    29.000000   \n",
              "75%       1.000000     1.000000           1.000000    55.000000   \n",
              "max       1.000000     1.000000           1.000000    72.000000   \n",
              "\n",
              "       FacturacionElectronica  PagoMensual    PagoTotal  Cuentas_Diarias  \n",
              "count             7267.000000  7267.000000  7267.000000      7267.000000  \n",
              "mean                 0.593230    64.720098  2277.182035         2.157337  \n",
              "std                  0.491265    30.129572  2268.648587         1.004319  \n",
              "min                  0.000000    18.250000     0.000000         0.608333  \n",
              "25%                  0.000000    35.425000   396.200000         1.180833  \n",
              "50%                  1.000000    70.300000  1389.200000         2.343333  \n",
              "75%                  1.000000    89.875000  3778.525000         2.995833  \n",
              "max                  1.000000   118.750000  8684.800000         3.958333  "
            ],
            "text/html": [
              "\n",
              "  <div id=\"df-22a7fed7-9c50-4bc4-8637-f8300c34121c\" class=\"colab-df-container\">\n",
              "    <div>\n",
              "<style scoped>\n",
              "    .dataframe tbody tr th:only-of-type {\n",
              "        vertical-align: middle;\n",
              "    }\n",
              "\n",
              "    .dataframe tbody tr th {\n",
              "        vertical-align: top;\n",
              "    }\n",
              "\n",
              "    .dataframe thead th {\n",
              "        text-align: right;\n",
              "    }\n",
              "</style>\n",
              "<table border=\"1\" class=\"dataframe\">\n",
              "  <thead>\n",
              "    <tr style=\"text-align: right;\">\n",
              "      <th></th>\n",
              "      <th>Evasion</th>\n",
              "      <th>TienePareja</th>\n",
              "      <th>TieneDependientes</th>\n",
              "      <th>tenure</th>\n",
              "      <th>FacturacionElectronica</th>\n",
              "      <th>PagoMensual</th>\n",
              "      <th>PagoTotal</th>\n",
              "      <th>Cuentas_Diarias</th>\n",
              "    </tr>\n",
              "  </thead>\n",
              "  <tbody>\n",
              "    <tr>\n",
              "      <th>count</th>\n",
              "      <td>7267.000000</td>\n",
              "      <td>7267.000000</td>\n",
              "      <td>7267.000000</td>\n",
              "      <td>7267.000000</td>\n",
              "      <td>7267.000000</td>\n",
              "      <td>7267.000000</td>\n",
              "      <td>7267.000000</td>\n",
              "      <td>7267.000000</td>\n",
              "    </tr>\n",
              "    <tr>\n",
              "      <th>mean</th>\n",
              "      <td>0.257190</td>\n",
              "      <td>0.484106</td>\n",
              "      <td>0.300124</td>\n",
              "      <td>32.346498</td>\n",
              "      <td>0.593230</td>\n",
              "      <td>64.720098</td>\n",
              "      <td>2277.182035</td>\n",
              "      <td>2.157337</td>\n",
              "    </tr>\n",
              "    <tr>\n",
              "      <th>std</th>\n",
              "      <td>0.437115</td>\n",
              "      <td>0.499782</td>\n",
              "      <td>0.458343</td>\n",
              "      <td>24.571773</td>\n",
              "      <td>0.491265</td>\n",
              "      <td>30.129572</td>\n",
              "      <td>2268.648587</td>\n",
              "      <td>1.004319</td>\n",
              "    </tr>\n",
              "    <tr>\n",
              "      <th>min</th>\n",
              "      <td>0.000000</td>\n",
              "      <td>0.000000</td>\n",
              "      <td>0.000000</td>\n",
              "      <td>0.000000</td>\n",
              "      <td>0.000000</td>\n",
              "      <td>18.250000</td>\n",
              "      <td>0.000000</td>\n",
              "      <td>0.608333</td>\n",
              "    </tr>\n",
              "    <tr>\n",
              "      <th>25%</th>\n",
              "      <td>0.000000</td>\n",
              "      <td>0.000000</td>\n",
              "      <td>0.000000</td>\n",
              "      <td>9.000000</td>\n",
              "      <td>0.000000</td>\n",
              "      <td>35.425000</td>\n",
              "      <td>396.200000</td>\n",
              "      <td>1.180833</td>\n",
              "    </tr>\n",
              "    <tr>\n",
              "      <th>50%</th>\n",
              "      <td>0.000000</td>\n",
              "      <td>0.000000</td>\n",
              "      <td>0.000000</td>\n",
              "      <td>29.000000</td>\n",
              "      <td>1.000000</td>\n",
              "      <td>70.300000</td>\n",
              "      <td>1389.200000</td>\n",
              "      <td>2.343333</td>\n",
              "    </tr>\n",
              "    <tr>\n",
              "      <th>75%</th>\n",
              "      <td>1.000000</td>\n",
              "      <td>1.000000</td>\n",
              "      <td>1.000000</td>\n",
              "      <td>55.000000</td>\n",
              "      <td>1.000000</td>\n",
              "      <td>89.875000</td>\n",
              "      <td>3778.525000</td>\n",
              "      <td>2.995833</td>\n",
              "    </tr>\n",
              "    <tr>\n",
              "      <th>max</th>\n",
              "      <td>1.000000</td>\n",
              "      <td>1.000000</td>\n",
              "      <td>1.000000</td>\n",
              "      <td>72.000000</td>\n",
              "      <td>1.000000</td>\n",
              "      <td>118.750000</td>\n",
              "      <td>8684.800000</td>\n",
              "      <td>3.958333</td>\n",
              "    </tr>\n",
              "  </tbody>\n",
              "</table>\n",
              "</div>\n",
              "    <div class=\"colab-df-buttons\">\n",
              "\n",
              "  <div class=\"colab-df-container\">\n",
              "    <button class=\"colab-df-convert\" onclick=\"convertToInteractive('df-22a7fed7-9c50-4bc4-8637-f8300c34121c')\"\n",
              "            title=\"Convert this dataframe to an interactive table.\"\n",
              "            style=\"display:none;\">\n",
              "\n",
              "  <svg xmlns=\"http://www.w3.org/2000/svg\" height=\"24px\" viewBox=\"0 -960 960 960\">\n",
              "    <path d=\"M120-120v-720h720v720H120Zm60-500h600v-160H180v160Zm220 220h160v-160H400v160Zm0 220h160v-160H400v160ZM180-400h160v-160H180v160Zm440 0h160v-160H620v160ZM180-180h160v-160H180v160Zm440 0h160v-160H620v160Z\"/>\n",
              "  </svg>\n",
              "    </button>\n",
              "\n",
              "  <style>\n",
              "    .colab-df-container {\n",
              "      display:flex;\n",
              "      gap: 12px;\n",
              "    }\n",
              "\n",
              "    .colab-df-convert {\n",
              "      background-color: #E8F0FE;\n",
              "      border: none;\n",
              "      border-radius: 50%;\n",
              "      cursor: pointer;\n",
              "      display: none;\n",
              "      fill: #1967D2;\n",
              "      height: 32px;\n",
              "      padding: 0 0 0 0;\n",
              "      width: 32px;\n",
              "    }\n",
              "\n",
              "    .colab-df-convert:hover {\n",
              "      background-color: #E2EBFA;\n",
              "      box-shadow: 0px 1px 2px rgba(60, 64, 67, 0.3), 0px 1px 3px 1px rgba(60, 64, 67, 0.15);\n",
              "      fill: #174EA6;\n",
              "    }\n",
              "\n",
              "    .colab-df-buttons div {\n",
              "      margin-bottom: 4px;\n",
              "    }\n",
              "\n",
              "    [theme=dark] .colab-df-convert {\n",
              "      background-color: #3B4455;\n",
              "      fill: #D2E3FC;\n",
              "    }\n",
              "\n",
              "    [theme=dark] .colab-df-convert:hover {\n",
              "      background-color: #434B5C;\n",
              "      box-shadow: 0px 1px 3px 1px rgba(0, 0, 0, 0.15);\n",
              "      filter: drop-shadow(0px 1px 2px rgba(0, 0, 0, 0.3));\n",
              "      fill: #FFFFFF;\n",
              "    }\n",
              "  </style>\n",
              "\n",
              "    <script>\n",
              "      const buttonEl =\n",
              "        document.querySelector('#df-22a7fed7-9c50-4bc4-8637-f8300c34121c button.colab-df-convert');\n",
              "      buttonEl.style.display =\n",
              "        google.colab.kernel.accessAllowed ? 'block' : 'none';\n",
              "\n",
              "      async function convertToInteractive(key) {\n",
              "        const element = document.querySelector('#df-22a7fed7-9c50-4bc4-8637-f8300c34121c');\n",
              "        const dataTable =\n",
              "          await google.colab.kernel.invokeFunction('convertToInteractive',\n",
              "                                                    [key], {});\n",
              "        if (!dataTable) return;\n",
              "\n",
              "        const docLinkHtml = 'Like what you see? Visit the ' +\n",
              "          '<a target=\"_blank\" href=https://colab.research.google.com/notebooks/data_table.ipynb>data table notebook</a>'\n",
              "          + ' to learn more about interactive tables.';\n",
              "        element.innerHTML = '';\n",
              "        dataTable['output_type'] = 'display_data';\n",
              "        await google.colab.output.renderOutput(dataTable, element);\n",
              "        const docLink = document.createElement('div');\n",
              "        docLink.innerHTML = docLinkHtml;\n",
              "        element.appendChild(docLink);\n",
              "      }\n",
              "    </script>\n",
              "  </div>\n",
              "\n",
              "\n",
              "    <div id=\"df-dc353f13-ff74-4419-af8e-30c60f3544da\">\n",
              "      <button class=\"colab-df-quickchart\" onclick=\"quickchart('df-dc353f13-ff74-4419-af8e-30c60f3544da')\"\n",
              "                title=\"Suggest charts\"\n",
              "                style=\"display:none;\">\n",
              "\n",
              "<svg xmlns=\"http://www.w3.org/2000/svg\" height=\"24px\"viewBox=\"0 0 24 24\"\n",
              "     width=\"24px\">\n",
              "    <g>\n",
              "        <path d=\"M19 3H5c-1.1 0-2 .9-2 2v14c0 1.1.9 2 2 2h14c1.1 0 2-.9 2-2V5c0-1.1-.9-2-2-2zM9 17H7v-7h2v7zm4 0h-2V7h2v10zm4 0h-2v-4h2v4z\"/>\n",
              "    </g>\n",
              "</svg>\n",
              "      </button>\n",
              "\n",
              "<style>\n",
              "  .colab-df-quickchart {\n",
              "      --bg-color: #E8F0FE;\n",
              "      --fill-color: #1967D2;\n",
              "      --hover-bg-color: #E2EBFA;\n",
              "      --hover-fill-color: #174EA6;\n",
              "      --disabled-fill-color: #AAA;\n",
              "      --disabled-bg-color: #DDD;\n",
              "  }\n",
              "\n",
              "  [theme=dark] .colab-df-quickchart {\n",
              "      --bg-color: #3B4455;\n",
              "      --fill-color: #D2E3FC;\n",
              "      --hover-bg-color: #434B5C;\n",
              "      --hover-fill-color: #FFFFFF;\n",
              "      --disabled-bg-color: #3B4455;\n",
              "      --disabled-fill-color: #666;\n",
              "  }\n",
              "\n",
              "  .colab-df-quickchart {\n",
              "    background-color: var(--bg-color);\n",
              "    border: none;\n",
              "    border-radius: 50%;\n",
              "    cursor: pointer;\n",
              "    display: none;\n",
              "    fill: var(--fill-color);\n",
              "    height: 32px;\n",
              "    padding: 0;\n",
              "    width: 32px;\n",
              "  }\n",
              "\n",
              "  .colab-df-quickchart:hover {\n",
              "    background-color: var(--hover-bg-color);\n",
              "    box-shadow: 0 1px 2px rgba(60, 64, 67, 0.3), 0 1px 3px 1px rgba(60, 64, 67, 0.15);\n",
              "    fill: var(--button-hover-fill-color);\n",
              "  }\n",
              "\n",
              "  .colab-df-quickchart-complete:disabled,\n",
              "  .colab-df-quickchart-complete:disabled:hover {\n",
              "    background-color: var(--disabled-bg-color);\n",
              "    fill: var(--disabled-fill-color);\n",
              "    box-shadow: none;\n",
              "  }\n",
              "\n",
              "  .colab-df-spinner {\n",
              "    border: 2px solid var(--fill-color);\n",
              "    border-color: transparent;\n",
              "    border-bottom-color: var(--fill-color);\n",
              "    animation:\n",
              "      spin 1s steps(1) infinite;\n",
              "  }\n",
              "\n",
              "  @keyframes spin {\n",
              "    0% {\n",
              "      border-color: transparent;\n",
              "      border-bottom-color: var(--fill-color);\n",
              "      border-left-color: var(--fill-color);\n",
              "    }\n",
              "    20% {\n",
              "      border-color: transparent;\n",
              "      border-left-color: var(--fill-color);\n",
              "      border-top-color: var(--fill-color);\n",
              "    }\n",
              "    30% {\n",
              "      border-color: transparent;\n",
              "      border-left-color: var(--fill-color);\n",
              "      border-top-color: var(--fill-color);\n",
              "      border-right-color: var(--fill-color);\n",
              "    }\n",
              "    40% {\n",
              "      border-color: transparent;\n",
              "      border-right-color: var(--fill-color);\n",
              "      border-top-color: var(--fill-color);\n",
              "    }\n",
              "    60% {\n",
              "      border-color: transparent;\n",
              "      border-right-color: var(--fill-color);\n",
              "    }\n",
              "    80% {\n",
              "      border-color: transparent;\n",
              "      border-right-color: var(--fill-color);\n",
              "      border-bottom-color: var(--fill-color);\n",
              "    }\n",
              "    90% {\n",
              "      border-color: transparent;\n",
              "      border-bottom-color: var(--fill-color);\n",
              "    }\n",
              "  }\n",
              "</style>\n",
              "\n",
              "      <script>\n",
              "        async function quickchart(key) {\n",
              "          const quickchartButtonEl =\n",
              "            document.querySelector('#' + key + ' button');\n",
              "          quickchartButtonEl.disabled = true;  // To prevent multiple clicks.\n",
              "          quickchartButtonEl.classList.add('colab-df-spinner');\n",
              "          try {\n",
              "            const charts = await google.colab.kernel.invokeFunction(\n",
              "                'suggestCharts', [key], {});\n",
              "          } catch (error) {\n",
              "            console.error('Error during call to suggestCharts:', error);\n",
              "          }\n",
              "          quickchartButtonEl.classList.remove('colab-df-spinner');\n",
              "          quickchartButtonEl.classList.add('colab-df-quickchart-complete');\n",
              "        }\n",
              "        (() => {\n",
              "          let quickchartButtonEl =\n",
              "            document.querySelector('#df-dc353f13-ff74-4419-af8e-30c60f3544da button');\n",
              "          quickchartButtonEl.style.display =\n",
              "            google.colab.kernel.accessAllowed ? 'block' : 'none';\n",
              "        })();\n",
              "      </script>\n",
              "    </div>\n",
              "\n",
              "    </div>\n",
              "  </div>\n"
            ],
            "application/vnd.google.colaboratory.intrinsic+json": {
              "type": "dataframe",
              "summary": "{\n  \"name\": \"df\",\n  \"rows\": 8,\n  \"fields\": [\n    {\n      \"column\": \"Evasion\",\n      \"properties\": {\n        \"dtype\": \"number\",\n        \"std\": 2569.136440405606,\n        \"min\": 0.0,\n        \"max\": 7267.0,\n        \"num_unique_values\": 5,\n        \"samples\": [\n          0.257190037154259,\n          1.0,\n          0.43711510465832787\n        ],\n        \"semantic_type\": \"\",\n        \"description\": \"\"\n      }\n    },\n    {\n      \"column\": \"TienePareja\",\n      \"properties\": {\n        \"dtype\": \"number\",\n        \"std\": 2569.1218140436854,\n        \"min\": 0.0,\n        \"max\": 7267.0,\n        \"num_unique_values\": 5,\n        \"samples\": [\n          0.48410623365900646,\n          1.0,\n          0.49978171260213444\n        ],\n        \"semantic_type\": \"\",\n        \"description\": \"\"\n      }\n    },\n    {\n      \"column\": \"TieneDependientes\",\n      \"properties\": {\n        \"dtype\": \"number\",\n        \"std\": 2569.1331995473306,\n        \"min\": 0.0,\n        \"max\": 7267.0,\n        \"num_unique_values\": 5,\n        \"samples\": [\n          0.3001238475299298,\n          1.0,\n          0.4583431380785336\n        ],\n        \"semantic_type\": \"\",\n        \"description\": \"\"\n      }\n    },\n    {\n      \"column\": \"tenure\",\n      \"properties\": {\n        \"dtype\": \"number\",\n        \"std\": 2558.1685122560853,\n        \"min\": 0.0,\n        \"max\": 7267.0,\n        \"num_unique_values\": 8,\n        \"samples\": [\n          32.34649786707032,\n          29.0,\n          7267.0\n        ],\n        \"semantic_type\": \"\",\n        \"description\": \"\"\n      }\n    },\n    {\n      \"column\": \"FacturacionElectronica\",\n      \"properties\": {\n        \"dtype\": \"number\",\n        \"std\": 2569.0662249410307,\n        \"min\": 0.0,\n        \"max\": 7267.0,\n        \"num_unique_values\": 5,\n        \"samples\": [\n          0.5932296683638365,\n          1.0,\n          0.49126514179011355\n        ],\n        \"semantic_type\": \"\",\n        \"description\": \"\"\n      }\n    },\n    {\n      \"column\": \"PagoMensual\",\n      \"properties\": {\n        \"dtype\": \"number\",\n        \"std\": 2547.8989994186936,\n        \"min\": 18.25,\n        \"max\": 7267.0,\n        \"num_unique_values\": 8,\n        \"samples\": [\n          64.72009770194028,\n          70.3,\n          7267.0\n        ],\n        \"semantic_type\": \"\",\n        \"description\": \"\"\n      }\n    },\n    {\n      \"column\": \"PagoTotal\",\n      \"properties\": {\n        \"dtype\": \"number\",\n        \"std\": 3162.9751263174294,\n        \"min\": 0.0,\n        \"max\": 8684.8,\n        \"num_unique_values\": 8,\n        \"samples\": [\n          2277.182035227742,\n          1389.2,\n          7267.0\n        ],\n        \"semantic_type\": \"\",\n        \"description\": \"\"\n      }\n    },\n    {\n      \"column\": \"Cuentas_Diarias\",\n      \"properties\": {\n        \"dtype\": \"number\",\n        \"std\": 2568.553078525389,\n        \"min\": 0.6083333333333333,\n        \"max\": 7267.0,\n        \"num_unique_values\": 8,\n        \"samples\": [\n          2.1573365900646757,\n          2.3433333333333333,\n          7267.0\n        ],\n        \"semantic_type\": \"\",\n        \"description\": \"\"\n      }\n    }\n  ]\n}"
            }
          },
          "metadata": {},
          "execution_count": 50
        }
      ]
    },
    {
      "cell_type": "code",
      "source": [
        "variables_clave = ['PagoMensual', 'PagoTotal', 'tenure', 'Cuentas_Diarias']\n",
        "\n",
        "# Análisis detallado\n",
        "print(df[variables_clave].describe().T)"
      ],
      "metadata": {
        "colab": {
          "base_uri": "https://localhost:8080/"
        },
        "id": "YJjMjQ7irNhe",
        "outputId": "9df13161-7213-4289-d3bc-16d3f15e9f41"
      },
      "execution_count": 51,
      "outputs": [
        {
          "output_type": "stream",
          "name": "stdout",
          "text": [
            "                  count         mean          std        min         25%  \\\n",
            "PagoMensual      7267.0    64.720098    30.129572  18.250000   35.425000   \n",
            "PagoTotal        7267.0  2277.182035  2268.648587   0.000000  396.200000   \n",
            "tenure           7267.0    32.346498    24.571773   0.000000    9.000000   \n",
            "Cuentas_Diarias  7267.0     2.157337     1.004319   0.608333    1.180833   \n",
            "\n",
            "                         50%          75%          max  \n",
            "PagoMensual        70.300000    89.875000   118.750000  \n",
            "PagoTotal        1389.200000  3778.525000  8684.800000  \n",
            "tenure             29.000000    55.000000    72.000000  \n",
            "Cuentas_Diarias     2.343333     2.995833     3.958333  \n"
          ]
        }
      ]
    },
    {
      "cell_type": "code",
      "source": [
        "# Media y mediana por grupo (0 = no se fue, 1 = se fue)\n",
        "df.groupby('Evasion')[variables_clave].agg(['mean', 'median', 'std', 'min', 'max'])"
      ],
      "metadata": {
        "colab": {
          "base_uri": "https://localhost:8080/",
          "height": 175
        },
        "id": "TrvmMqoOrWNm",
        "outputId": "d8261187-eb01-4163-e8d1-f818483b4f5e"
      },
      "execution_count": 52,
      "outputs": [
        {
          "output_type": "execute_result",
          "data": {
            "text/plain": [
              "        PagoMensual                                     PagoTotal            \\\n",
              "               mean median        std    min     max         mean    median   \n",
              "Evasion                                                                       \n",
              "0.0       61.354224  64.50  31.105006  18.25  118.75  2535.263977  1663.625   \n",
              "1.0       74.441332  79.65  24.666053  18.85  118.35  1531.796094   703.550   \n",
              "\n",
              "                                         tenure                            \\\n",
              "                 std    min      max       mean median        std min max   \n",
              "Evasion                                                                     \n",
              "0.0      2330.802193   0.00  8672.45  37.321045   37.0  24.178367   0  72   \n",
              "1.0      1890.822994  18.85  8684.80  17.979133   10.0  19.531123   1  72   \n",
              "\n",
              "        Cuentas_Diarias                                       \n",
              "                   mean median       std       min       max  \n",
              "Evasion                                                       \n",
              "0.0            2.045141  2.150  1.036834  0.608333  3.958333  \n",
              "1.0            2.481378  2.655  0.822202  0.628333  3.945000  "
            ],
            "text/html": [
              "\n",
              "  <div id=\"df-b7c1d075-f9f4-4982-ba18-e7f031fa834a\" class=\"colab-df-container\">\n",
              "    <div>\n",
              "<style scoped>\n",
              "    .dataframe tbody tr th:only-of-type {\n",
              "        vertical-align: middle;\n",
              "    }\n",
              "\n",
              "    .dataframe tbody tr th {\n",
              "        vertical-align: top;\n",
              "    }\n",
              "\n",
              "    .dataframe thead tr th {\n",
              "        text-align: left;\n",
              "    }\n",
              "\n",
              "    .dataframe thead tr:last-of-type th {\n",
              "        text-align: right;\n",
              "    }\n",
              "</style>\n",
              "<table border=\"1\" class=\"dataframe\">\n",
              "  <thead>\n",
              "    <tr>\n",
              "      <th></th>\n",
              "      <th colspan=\"5\" halign=\"left\">PagoMensual</th>\n",
              "      <th colspan=\"5\" halign=\"left\">PagoTotal</th>\n",
              "      <th colspan=\"5\" halign=\"left\">tenure</th>\n",
              "      <th colspan=\"5\" halign=\"left\">Cuentas_Diarias</th>\n",
              "    </tr>\n",
              "    <tr>\n",
              "      <th></th>\n",
              "      <th>mean</th>\n",
              "      <th>median</th>\n",
              "      <th>std</th>\n",
              "      <th>min</th>\n",
              "      <th>max</th>\n",
              "      <th>mean</th>\n",
              "      <th>median</th>\n",
              "      <th>std</th>\n",
              "      <th>min</th>\n",
              "      <th>max</th>\n",
              "      <th>mean</th>\n",
              "      <th>median</th>\n",
              "      <th>std</th>\n",
              "      <th>min</th>\n",
              "      <th>max</th>\n",
              "      <th>mean</th>\n",
              "      <th>median</th>\n",
              "      <th>std</th>\n",
              "      <th>min</th>\n",
              "      <th>max</th>\n",
              "    </tr>\n",
              "    <tr>\n",
              "      <th>Evasion</th>\n",
              "      <th></th>\n",
              "      <th></th>\n",
              "      <th></th>\n",
              "      <th></th>\n",
              "      <th></th>\n",
              "      <th></th>\n",
              "      <th></th>\n",
              "      <th></th>\n",
              "      <th></th>\n",
              "      <th></th>\n",
              "      <th></th>\n",
              "      <th></th>\n",
              "      <th></th>\n",
              "      <th></th>\n",
              "      <th></th>\n",
              "      <th></th>\n",
              "      <th></th>\n",
              "      <th></th>\n",
              "      <th></th>\n",
              "      <th></th>\n",
              "    </tr>\n",
              "  </thead>\n",
              "  <tbody>\n",
              "    <tr>\n",
              "      <th>0.0</th>\n",
              "      <td>61.354224</td>\n",
              "      <td>64.50</td>\n",
              "      <td>31.105006</td>\n",
              "      <td>18.25</td>\n",
              "      <td>118.75</td>\n",
              "      <td>2535.263977</td>\n",
              "      <td>1663.625</td>\n",
              "      <td>2330.802193</td>\n",
              "      <td>0.00</td>\n",
              "      <td>8672.45</td>\n",
              "      <td>37.321045</td>\n",
              "      <td>37.0</td>\n",
              "      <td>24.178367</td>\n",
              "      <td>0</td>\n",
              "      <td>72</td>\n",
              "      <td>2.045141</td>\n",
              "      <td>2.150</td>\n",
              "      <td>1.036834</td>\n",
              "      <td>0.608333</td>\n",
              "      <td>3.958333</td>\n",
              "    </tr>\n",
              "    <tr>\n",
              "      <th>1.0</th>\n",
              "      <td>74.441332</td>\n",
              "      <td>79.65</td>\n",
              "      <td>24.666053</td>\n",
              "      <td>18.85</td>\n",
              "      <td>118.35</td>\n",
              "      <td>1531.796094</td>\n",
              "      <td>703.550</td>\n",
              "      <td>1890.822994</td>\n",
              "      <td>18.85</td>\n",
              "      <td>8684.80</td>\n",
              "      <td>17.979133</td>\n",
              "      <td>10.0</td>\n",
              "      <td>19.531123</td>\n",
              "      <td>1</td>\n",
              "      <td>72</td>\n",
              "      <td>2.481378</td>\n",
              "      <td>2.655</td>\n",
              "      <td>0.822202</td>\n",
              "      <td>0.628333</td>\n",
              "      <td>3.945000</td>\n",
              "    </tr>\n",
              "  </tbody>\n",
              "</table>\n",
              "</div>\n",
              "    <div class=\"colab-df-buttons\">\n",
              "\n",
              "  <div class=\"colab-df-container\">\n",
              "    <button class=\"colab-df-convert\" onclick=\"convertToInteractive('df-b7c1d075-f9f4-4982-ba18-e7f031fa834a')\"\n",
              "            title=\"Convert this dataframe to an interactive table.\"\n",
              "            style=\"display:none;\">\n",
              "\n",
              "  <svg xmlns=\"http://www.w3.org/2000/svg\" height=\"24px\" viewBox=\"0 -960 960 960\">\n",
              "    <path d=\"M120-120v-720h720v720H120Zm60-500h600v-160H180v160Zm220 220h160v-160H400v160Zm0 220h160v-160H400v160ZM180-400h160v-160H180v160Zm440 0h160v-160H620v160ZM180-180h160v-160H180v160Zm440 0h160v-160H620v160Z\"/>\n",
              "  </svg>\n",
              "    </button>\n",
              "\n",
              "  <style>\n",
              "    .colab-df-container {\n",
              "      display:flex;\n",
              "      gap: 12px;\n",
              "    }\n",
              "\n",
              "    .colab-df-convert {\n",
              "      background-color: #E8F0FE;\n",
              "      border: none;\n",
              "      border-radius: 50%;\n",
              "      cursor: pointer;\n",
              "      display: none;\n",
              "      fill: #1967D2;\n",
              "      height: 32px;\n",
              "      padding: 0 0 0 0;\n",
              "      width: 32px;\n",
              "    }\n",
              "\n",
              "    .colab-df-convert:hover {\n",
              "      background-color: #E2EBFA;\n",
              "      box-shadow: 0px 1px 2px rgba(60, 64, 67, 0.3), 0px 1px 3px 1px rgba(60, 64, 67, 0.15);\n",
              "      fill: #174EA6;\n",
              "    }\n",
              "\n",
              "    .colab-df-buttons div {\n",
              "      margin-bottom: 4px;\n",
              "    }\n",
              "\n",
              "    [theme=dark] .colab-df-convert {\n",
              "      background-color: #3B4455;\n",
              "      fill: #D2E3FC;\n",
              "    }\n",
              "\n",
              "    [theme=dark] .colab-df-convert:hover {\n",
              "      background-color: #434B5C;\n",
              "      box-shadow: 0px 1px 3px 1px rgba(0, 0, 0, 0.15);\n",
              "      filter: drop-shadow(0px 1px 2px rgba(0, 0, 0, 0.3));\n",
              "      fill: #FFFFFF;\n",
              "    }\n",
              "  </style>\n",
              "\n",
              "    <script>\n",
              "      const buttonEl =\n",
              "        document.querySelector('#df-b7c1d075-f9f4-4982-ba18-e7f031fa834a button.colab-df-convert');\n",
              "      buttonEl.style.display =\n",
              "        google.colab.kernel.accessAllowed ? 'block' : 'none';\n",
              "\n",
              "      async function convertToInteractive(key) {\n",
              "        const element = document.querySelector('#df-b7c1d075-f9f4-4982-ba18-e7f031fa834a');\n",
              "        const dataTable =\n",
              "          await google.colab.kernel.invokeFunction('convertToInteractive',\n",
              "                                                    [key], {});\n",
              "        if (!dataTable) return;\n",
              "\n",
              "        const docLinkHtml = 'Like what you see? Visit the ' +\n",
              "          '<a target=\"_blank\" href=https://colab.research.google.com/notebooks/data_table.ipynb>data table notebook</a>'\n",
              "          + ' to learn more about interactive tables.';\n",
              "        element.innerHTML = '';\n",
              "        dataTable['output_type'] = 'display_data';\n",
              "        await google.colab.output.renderOutput(dataTable, element);\n",
              "        const docLink = document.createElement('div');\n",
              "        docLink.innerHTML = docLinkHtml;\n",
              "        element.appendChild(docLink);\n",
              "      }\n",
              "    </script>\n",
              "  </div>\n",
              "\n",
              "\n",
              "    <div id=\"df-6bf9a81f-7ac5-4d54-ac08-c2b2a46af53b\">\n",
              "      <button class=\"colab-df-quickchart\" onclick=\"quickchart('df-6bf9a81f-7ac5-4d54-ac08-c2b2a46af53b')\"\n",
              "                title=\"Suggest charts\"\n",
              "                style=\"display:none;\">\n",
              "\n",
              "<svg xmlns=\"http://www.w3.org/2000/svg\" height=\"24px\"viewBox=\"0 0 24 24\"\n",
              "     width=\"24px\">\n",
              "    <g>\n",
              "        <path d=\"M19 3H5c-1.1 0-2 .9-2 2v14c0 1.1.9 2 2 2h14c1.1 0 2-.9 2-2V5c0-1.1-.9-2-2-2zM9 17H7v-7h2v7zm4 0h-2V7h2v10zm4 0h-2v-4h2v4z\"/>\n",
              "    </g>\n",
              "</svg>\n",
              "      </button>\n",
              "\n",
              "<style>\n",
              "  .colab-df-quickchart {\n",
              "      --bg-color: #E8F0FE;\n",
              "      --fill-color: #1967D2;\n",
              "      --hover-bg-color: #E2EBFA;\n",
              "      --hover-fill-color: #174EA6;\n",
              "      --disabled-fill-color: #AAA;\n",
              "      --disabled-bg-color: #DDD;\n",
              "  }\n",
              "\n",
              "  [theme=dark] .colab-df-quickchart {\n",
              "      --bg-color: #3B4455;\n",
              "      --fill-color: #D2E3FC;\n",
              "      --hover-bg-color: #434B5C;\n",
              "      --hover-fill-color: #FFFFFF;\n",
              "      --disabled-bg-color: #3B4455;\n",
              "      --disabled-fill-color: #666;\n",
              "  }\n",
              "\n",
              "  .colab-df-quickchart {\n",
              "    background-color: var(--bg-color);\n",
              "    border: none;\n",
              "    border-radius: 50%;\n",
              "    cursor: pointer;\n",
              "    display: none;\n",
              "    fill: var(--fill-color);\n",
              "    height: 32px;\n",
              "    padding: 0;\n",
              "    width: 32px;\n",
              "  }\n",
              "\n",
              "  .colab-df-quickchart:hover {\n",
              "    background-color: var(--hover-bg-color);\n",
              "    box-shadow: 0 1px 2px rgba(60, 64, 67, 0.3), 0 1px 3px 1px rgba(60, 64, 67, 0.15);\n",
              "    fill: var(--button-hover-fill-color);\n",
              "  }\n",
              "\n",
              "  .colab-df-quickchart-complete:disabled,\n",
              "  .colab-df-quickchart-complete:disabled:hover {\n",
              "    background-color: var(--disabled-bg-color);\n",
              "    fill: var(--disabled-fill-color);\n",
              "    box-shadow: none;\n",
              "  }\n",
              "\n",
              "  .colab-df-spinner {\n",
              "    border: 2px solid var(--fill-color);\n",
              "    border-color: transparent;\n",
              "    border-bottom-color: var(--fill-color);\n",
              "    animation:\n",
              "      spin 1s steps(1) infinite;\n",
              "  }\n",
              "\n",
              "  @keyframes spin {\n",
              "    0% {\n",
              "      border-color: transparent;\n",
              "      border-bottom-color: var(--fill-color);\n",
              "      border-left-color: var(--fill-color);\n",
              "    }\n",
              "    20% {\n",
              "      border-color: transparent;\n",
              "      border-left-color: var(--fill-color);\n",
              "      border-top-color: var(--fill-color);\n",
              "    }\n",
              "    30% {\n",
              "      border-color: transparent;\n",
              "      border-left-color: var(--fill-color);\n",
              "      border-top-color: var(--fill-color);\n",
              "      border-right-color: var(--fill-color);\n",
              "    }\n",
              "    40% {\n",
              "      border-color: transparent;\n",
              "      border-right-color: var(--fill-color);\n",
              "      border-top-color: var(--fill-color);\n",
              "    }\n",
              "    60% {\n",
              "      border-color: transparent;\n",
              "      border-right-color: var(--fill-color);\n",
              "    }\n",
              "    80% {\n",
              "      border-color: transparent;\n",
              "      border-right-color: var(--fill-color);\n",
              "      border-bottom-color: var(--fill-color);\n",
              "    }\n",
              "    90% {\n",
              "      border-color: transparent;\n",
              "      border-bottom-color: var(--fill-color);\n",
              "    }\n",
              "  }\n",
              "</style>\n",
              "\n",
              "      <script>\n",
              "        async function quickchart(key) {\n",
              "          const quickchartButtonEl =\n",
              "            document.querySelector('#' + key + ' button');\n",
              "          quickchartButtonEl.disabled = true;  // To prevent multiple clicks.\n",
              "          quickchartButtonEl.classList.add('colab-df-spinner');\n",
              "          try {\n",
              "            const charts = await google.colab.kernel.invokeFunction(\n",
              "                'suggestCharts', [key], {});\n",
              "          } catch (error) {\n",
              "            console.error('Error during call to suggestCharts:', error);\n",
              "          }\n",
              "          quickchartButtonEl.classList.remove('colab-df-spinner');\n",
              "          quickchartButtonEl.classList.add('colab-df-quickchart-complete');\n",
              "        }\n",
              "        (() => {\n",
              "          let quickchartButtonEl =\n",
              "            document.querySelector('#df-6bf9a81f-7ac5-4d54-ac08-c2b2a46af53b button');\n",
              "          quickchartButtonEl.style.display =\n",
              "            google.colab.kernel.accessAllowed ? 'block' : 'none';\n",
              "        })();\n",
              "      </script>\n",
              "    </div>\n",
              "\n",
              "    </div>\n",
              "  </div>\n"
            ],
            "application/vnd.google.colaboratory.intrinsic+json": {
              "type": "dataframe",
              "summary": "{\n  \"name\": \"df\",\n  \"rows\": 2,\n  \"fields\": [\n    {\n      \"column\": [\n        \"Evasion\",\n        \"\"\n      ],\n      \"properties\": {\n        \"dtype\": \"number\",\n        \"std\": 0.7071067811865476,\n        \"min\": 0.0,\n        \"max\": 1.0,\n        \"num_unique_values\": 2,\n        \"samples\": [\n          1.0,\n          0.0\n        ],\n        \"semantic_type\": \"\",\n        \"description\": \"\"\n      }\n    },\n    {\n      \"column\": [\n        \"PagoMensual\",\n        \"mean\"\n      ],\n      \"properties\": {\n        \"dtype\": \"number\",\n        \"std\": 9.253983149966526,\n        \"min\": 61.35422378658762,\n        \"max\": 74.44133226324237,\n        \"num_unique_values\": 2,\n        \"samples\": [\n          74.44133226324237,\n          61.35422378658762\n        ],\n        \"semantic_type\": \"\",\n        \"description\": \"\"\n      }\n    },\n    {\n      \"column\": [\n        \"PagoMensual\",\n        \"median\"\n      ],\n      \"properties\": {\n        \"dtype\": \"number\",\n        \"std\": 10.712667734976199,\n        \"min\": 64.5,\n        \"max\": 79.65,\n        \"num_unique_values\": 2,\n        \"samples\": [\n          79.65,\n          64.5\n        ],\n        \"semantic_type\": \"\",\n        \"description\": \"\"\n      }\n    },\n    {\n      \"column\": [\n        \"PagoMensual\",\n        \"std\"\n      ],\n      \"properties\": {\n        \"dtype\": \"number\",\n        \"std\": 4.5530270566659645,\n        \"min\": 24.666053259397444,\n        \"max\": 31.105005872786105,\n        \"num_unique_values\": 2,\n        \"samples\": [\n          24.666053259397444,\n          31.105005872786105\n        ],\n        \"semantic_type\": \"\",\n        \"description\": \"\"\n      }\n    },\n    {\n      \"column\": [\n        \"PagoMensual\",\n        \"min\"\n      ],\n      \"properties\": {\n        \"dtype\": \"number\",\n        \"std\": 0.4242640687119295,\n        \"min\": 18.25,\n        \"max\": 18.85,\n        \"num_unique_values\": 2,\n        \"samples\": [\n          18.85,\n          18.25\n        ],\n        \"semantic_type\": \"\",\n        \"description\": \"\"\n      }\n    },\n    {\n      \"column\": [\n        \"PagoMensual\",\n        \"max\"\n      ],\n      \"properties\": {\n        \"dtype\": \"number\",\n        \"std\": 0.28284271247462306,\n        \"min\": 118.35,\n        \"max\": 118.75,\n        \"num_unique_values\": 2,\n        \"samples\": [\n          118.35,\n          118.75\n        ],\n        \"semantic_type\": \"\",\n        \"description\": \"\"\n      }\n    },\n    {\n      \"column\": [\n        \"PagoTotal\",\n        \"mean\"\n      ],\n      \"properties\": {\n        \"dtype\": \"number\",\n        \"std\": 709.5589449355734,\n        \"min\": 1531.7960941680042,\n        \"max\": 2535.2639773990363,\n        \"num_unique_values\": 2,\n        \"samples\": [\n          1531.7960941680042,\n          2535.2639773990363\n        ],\n        \"semantic_type\": \"\",\n        \"description\": \"\"\n      }\n    },\n    {\n      \"column\": [\n        \"PagoTotal\",\n        \"median\"\n      ],\n      \"properties\": {\n        \"dtype\": \"number\",\n        \"std\": 678.8755429476746,\n        \"min\": 703.55,\n        \"max\": 1663.625,\n        \"num_unique_values\": 2,\n        \"samples\": [\n          703.55,\n          1663.625\n        ],\n        \"semantic_type\": \"\",\n        \"description\": \"\"\n      }\n    },\n    {\n      \"column\": [\n        \"PagoTotal\",\n        \"std\"\n      ],\n      \"properties\": {\n        \"dtype\": \"number\",\n        \"std\": 311.1122749711087,\n        \"min\": 1890.8229944644058,\n        \"max\": 2330.8021931492954,\n        \"num_unique_values\": 2,\n        \"samples\": [\n          1890.8229944644058,\n          2330.8021931492954\n        ],\n        \"semantic_type\": \"\",\n        \"description\": \"\"\n      }\n    },\n    {\n      \"column\": [\n        \"PagoTotal\",\n        \"min\"\n      ],\n      \"properties\": {\n        \"dtype\": \"number\",\n        \"std\": 13.328962825366421,\n        \"min\": 0.0,\n        \"max\": 18.85,\n        \"num_unique_values\": 2,\n        \"samples\": [\n          18.85,\n          0.0\n        ],\n        \"semantic_type\": \"\",\n        \"description\": \"\"\n      }\n    },\n    {\n      \"column\": [\n        \"PagoTotal\",\n        \"max\"\n      ],\n      \"properties\": {\n        \"dtype\": \"number\",\n        \"std\": 8.732768747652832,\n        \"min\": 8672.45,\n        \"max\": 8684.8,\n        \"num_unique_values\": 2,\n        \"samples\": [\n          8684.8,\n          8672.45\n        ],\n        \"semantic_type\": \"\",\n        \"description\": \"\"\n      }\n    },\n    {\n      \"column\": [\n        \"tenure\",\n        \"mean\"\n      ],\n      \"properties\": {\n        \"dtype\": \"number\",\n        \"std\": 13.676796857073318,\n        \"min\": 17.979133226324237,\n        \"max\": 37.321044831419044,\n        \"num_unique_values\": 2,\n        \"samples\": [\n          17.979133226324237,\n          37.321044831419044\n        ],\n        \"semantic_type\": \"\",\n        \"description\": \"\"\n      }\n    },\n    {\n      \"column\": [\n        \"tenure\",\n        \"median\"\n      ],\n      \"properties\": {\n        \"dtype\": \"number\",\n        \"std\": 19.091883092036785,\n        \"min\": 10.0,\n        \"max\": 37.0,\n        \"num_unique_values\": 2,\n        \"samples\": [\n          10.0,\n          37.0\n        ],\n        \"semantic_type\": \"\",\n        \"description\": \"\"\n      }\n    },\n    {\n      \"column\": [\n        \"tenure\",\n        \"std\"\n      ],\n      \"properties\": {\n        \"dtype\": \"number\",\n        \"std\": 3.2860973916277567,\n        \"min\": 19.531123054519544,\n        \"max\": 24.17836655303837,\n        \"num_unique_values\": 2,\n        \"samples\": [\n          19.531123054519544,\n          24.17836655303837\n        ],\n        \"semantic_type\": \"\",\n        \"description\": \"\"\n      }\n    },\n    {\n      \"column\": [\n        \"tenure\",\n        \"min\"\n      ],\n      \"properties\": {\n        \"dtype\": \"number\",\n        \"std\": 0,\n        \"min\": 0,\n        \"max\": 1,\n        \"num_unique_values\": 2,\n        \"samples\": [\n          1,\n          0\n        ],\n        \"semantic_type\": \"\",\n        \"description\": \"\"\n      }\n    },\n    {\n      \"column\": [\n        \"tenure\",\n        \"max\"\n      ],\n      \"properties\": {\n        \"dtype\": \"number\",\n        \"std\": 0,\n        \"min\": 72,\n        \"max\": 72,\n        \"num_unique_values\": 1,\n        \"samples\": [\n          72\n        ],\n        \"semantic_type\": \"\",\n        \"description\": \"\"\n      }\n    },\n    {\n      \"column\": [\n        \"Cuentas_Diarias\",\n        \"mean\"\n      ],\n      \"properties\": {\n        \"dtype\": \"number\",\n        \"std\": 0.3084661049988839,\n        \"min\": 2.0451407928862544,\n        \"max\": 2.481377742108079,\n        \"num_unique_values\": 2,\n        \"samples\": [\n          2.481377742108079\n        ],\n        \"semantic_type\": \"\",\n        \"description\": \"\"\n      }\n    },\n    {\n      \"column\": [\n        \"Cuentas_Diarias\",\n        \"median\"\n      ],\n      \"properties\": {\n        \"dtype\": \"number\",\n        \"std\": 0.35708892449920676,\n        \"min\": 2.15,\n        \"max\": 2.6550000000000002,\n        \"num_unique_values\": 2,\n        \"samples\": [\n          2.6550000000000002\n        ],\n        \"semantic_type\": \"\",\n        \"description\": \"\"\n      }\n    },\n    {\n      \"column\": [\n        \"Cuentas_Diarias\",\n        \"std\"\n      ],\n      \"properties\": {\n        \"dtype\": \"number\",\n        \"std\": 0.15176756855553114,\n        \"min\": 0.8222017753132481,\n        \"max\": 1.0368335290928687,\n        \"num_unique_values\": 2,\n        \"samples\": [\n          0.8222017753132481\n        ],\n        \"semantic_type\": \"\",\n        \"description\": \"\"\n      }\n    },\n    {\n      \"column\": [\n        \"Cuentas_Diarias\",\n        \"min\"\n      ],\n      \"properties\": {\n        \"dtype\": \"number\",\n        \"std\": 0.014142135623731043,\n        \"min\": 0.6083333333333333,\n        \"max\": 0.6283333333333334,\n        \"num_unique_values\": 2,\n        \"samples\": [\n          0.6283333333333334\n        ],\n        \"semantic_type\": \"\",\n        \"description\": \"\"\n      }\n    },\n    {\n      \"column\": [\n        \"Cuentas_Diarias\",\n        \"max\"\n      ],\n      \"properties\": {\n        \"dtype\": \"number\",\n        \"std\": 0.009428090415820852,\n        \"min\": 3.945,\n        \"max\": 3.9583333333333335,\n        \"num_unique_values\": 2,\n        \"samples\": [\n          3.945\n        ],\n        \"semantic_type\": \"\",\n        \"description\": \"\"\n      }\n    }\n  ]\n}"
            }
          },
          "metadata": {},
          "execution_count": 52
        }
      ]
    },
    {
      "cell_type": "code",
      "source": [
        "import seaborn as sns\n",
        "import matplotlib.pyplot as plt\n",
        "\n",
        "for col in variables_clave:\n",
        "    sns.histplot(df[col], kde=True)\n",
        "    plt.title(f'Distribución de {col}')\n",
        "    plt.xlabel(col)\n",
        "    plt.ylabel('Frecuencia')\n",
        "    plt.show()"
      ],
      "metadata": {
        "colab": {
          "base_uri": "https://localhost:8080/",
          "height": 1000
        },
        "id": "GxnHTPe-ref-",
        "outputId": "c80e688f-4aa1-4bd3-ba84-0894b9440cc7"
      },
      "execution_count": 53,
      "outputs": [
        {
          "output_type": "display_data",
          "data": {
            "text/plain": [
              "<Figure size 640x480 with 1 Axes>"
            ],
            "image/png": "[encoded data removed]"
          },
          "metadata": {}
        },
        {
          "output_type": "display_data",
          "data": {
            "text/plain": [
              "<Figure size 640x480 with 1 Axes>"
            ],
            "image/png": "[encoded data removed]"
          },
          "metadata": {}
        },
        {
          "output_type": "display_data",
          "data": {
            "text/plain": [
              "<Figure size 640x480 with 1 Axes>"
            ],
            "image/png": "[encoded data removed]"
          },
          "metadata": {}
        },
        {
          "output_type": "display_data",
          "data": {
            "text/plain": [
              "<Figure size 640x480 with 1 Axes>"
            ],
            "image/png": "[encoded data removed]"
          },
          "metadata": {}
        }
      ]
    }
  ]
}